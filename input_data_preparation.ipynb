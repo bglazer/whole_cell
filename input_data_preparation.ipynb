{
 "cells": [
  {
   "cell_type": "code",
   "execution_count": 1,
   "id": "c4986980",
   "metadata": {},
   "outputs": [],
   "source": [
    "import networkx as nx\n",
    "import scanpy\n",
    "import json\n",
    "import re"
   ]
  },
  {
   "cell_type": "code",
   "execution_count": 2,
   "id": "11faa376",
   "metadata": {},
   "outputs": [],
   "source": [
    "import json\n",
    "from collections import defaultdict"
   ]
  },
  {
   "cell_type": "code",
   "execution_count": 3,
   "id": "7e9d523e",
   "metadata": {},
   "outputs": [],
   "source": [
    "import numpy as np"
   ]
  },
  {
   "cell_type": "code",
   "execution_count": 4,
   "id": "a86a699e",
   "metadata": {},
   "outputs": [],
   "source": [
    "from pprint import pprint"
   ]
  },
  {
   "cell_type": "code",
   "execution_count": 5,
   "id": "b8978a52",
   "metadata": {},
   "outputs": [],
   "source": [
    "import pickle\n",
    "from collections import Counter, defaultdict"
   ]
  },
  {
   "cell_type": "code",
   "execution_count": 6,
   "id": "fd7f1412",
   "metadata": {},
   "outputs": [],
   "source": [
    "chromosomes = {'chr1', \n",
    "               'chr2', \n",
    "               'chr3', \n",
    "               'chr4', \n",
    "               'chr5', \n",
    "               'chr6', \n",
    "               'chr7', \n",
    "               'chr8', \n",
    "               'chr9', \n",
    "               'chr10', \n",
    "               'chr11', \n",
    "               'chr12', \n",
    "               'chr13', \n",
    "               'chr14', \n",
    "               'chr15', \n",
    "               'chr16', \n",
    "               'chr17', \n",
    "               'chr18', \n",
    "               'chr19',\n",
    "               'chr20',\n",
    "               'chr21',\n",
    "               'chr22',\n",
    "               'chrX', \n",
    "              }"
   ]
  },
  {
   "cell_type": "markdown",
   "id": "ce4afcfc",
   "metadata": {},
   "source": [
    "## Creating graph from STRING protein-protein interactions"
   ]
  },
  {
   "cell_type": "code",
   "execution_count": 7,
   "id": "cbc3bac2",
   "metadata": {},
   "outputs": [],
   "source": [
    "string_filename = 'input/9606.protein.links.detailed.v11.5.txt'"
   ]
  },
  {
   "cell_type": "code",
   "execution_count": 8,
   "id": "2e9516dc",
   "metadata": {},
   "outputs": [
    {
     "data": {
      "text/plain": [
       "11938499"
      ]
     },
     "execution_count": 8,
     "metadata": {},
     "output_type": "execute_result"
    }
   ],
   "source": [
    "len_string_file= !wc -l {string_filename}\n",
    "\n",
    "len_string_file = int(len_string_file[0].split(' ')[0])\n",
    "len_string_file"
   ]
  },
  {
   "cell_type": "code",
   "execution_count": 9,
   "id": "def02106",
   "metadata": {},
   "outputs": [
    {
     "name": "stdout",
     "output_type": "stream",
     "text": [
      "10%\n",
      "20%\n",
      "30%\n",
      "40%\n",
      "50%\n",
      "60%\n",
      "70%\n",
      "80%\n",
      "90%\n",
      "100%\n"
     ]
    }
   ],
   "source": [
    "protein_coocurrence = nx.DiGraph()\n",
    "protein_database_association = nx.DiGraph()\n",
    "protein_text_mining = nx.DiGraph()\n",
    "protein_experimental_association = nx.DiGraph()\n",
    "\n",
    "string_file = open(string_filename)\n",
    "\n",
    "header = next(string_file).strip().split(' ')\n",
    "# list(enumerate(header))\n",
    "\n",
    "i,pct = 0,0\n",
    "stops = 10\n",
    "step = int(len_string_file/stops)\n",
    "for line in string_file:\n",
    "    if i==step:\n",
    "        i=0\n",
    "        pct+=int(1/stops*100)\n",
    "        print(f'{pct}%',flush=True)\n",
    "    line=line.strip().split(' ')\n",
    "    # strip off the 9606 id that STRING adds (as an id for homo sapiens)\n",
    "    # to the beginning of the protein ensembl id\n",
    "    p1 = ('protein',line[0][5:])\n",
    "    p2 = ('protein',line[1][5:])\n",
    "    labeled = zip(header, line)\n",
    "    interaction_attributes = {x:int(y) for x,y in list(labeled)[2:]}\n",
    "    if interaction_attributes['coexpression'] > 0:\n",
    "        protein_coocurrence.add_edge(p1, p2, \n",
    "                                      weight=interaction_attributes['coexpression']/1000)\n",
    "#     if interaction_attributes['database'] > 0:\n",
    "#         protein_database_association.add_edge(p1, p2, \n",
    "#                                       weight=interaction_attributes['database']/1000)\n",
    "#     if interaction_attributes['textmining'] > 0:\n",
    "#         protein_text_mining.add_edge(p1, p2, \n",
    "#                                       weight=interaction_attributes['textmining']/1000)\n",
    "    if interaction_attributes['experimental'] > 0:\n",
    "        protein_experimental_association.add_edge(p1, p2, \n",
    "                                      weight=interaction_attributes['experimental']/1000)\n",
    "    i+=1"
   ]
  },
  {
   "cell_type": "code",
   "execution_count": 10,
   "id": "6aedf07a",
   "metadata": {},
   "outputs": [
    {
     "name": "stdout",
     "output_type": "stream",
     "text": [
      "19026\n",
      "6525628\n"
     ]
    }
   ],
   "source": [
    "print(protein_coocurrence.number_of_nodes())\n",
    "print(protein_coocurrence.number_of_edges())"
   ]
  },
  {
   "cell_type": "code",
   "execution_count": 11,
   "id": "f3d5b4c3",
   "metadata": {},
   "outputs": [
    {
     "name": "stdout",
     "output_type": "stream",
     "text": [
      "0\n",
      "0\n"
     ]
    }
   ],
   "source": [
    "print(protein_experimental_association.number_of_nodes())\n",
    "print(protein_experimental_association.number_of_edges())"
   ]
  },
  {
   "cell_type": "code",
   "execution_count": 12,
   "id": "8e1122ed",
   "metadata": {},
   "outputs": [
    {
     "name": "stdout",
     "output_type": "stream",
     "text": [
      "0\n",
      "0\n"
     ]
    }
   ],
   "source": [
    "print(protein_text_mining.number_of_nodes())\n",
    "print(protein_text_mining.number_of_edges())"
   ]
  },
  {
   "cell_type": "code",
   "execution_count": 13,
   "id": "9bf1ada2",
   "metadata": {},
   "outputs": [
    {
     "name": "stdout",
     "output_type": "stream",
     "text": [
      "0\n",
      "0\n"
     ]
    }
   ],
   "source": [
    "print(protein_database_association.number_of_nodes())\n",
    "print(protein_database_association.number_of_edges())"
   ]
  },
  {
   "cell_type": "code",
   "execution_count": 14,
   "id": "002f5fd1",
   "metadata": {},
   "outputs": [
    {
     "data": {
      "text/plain": [
       "19026"
      ]
     },
     "execution_count": 14,
     "metadata": {},
     "output_type": "execute_result"
    }
   ],
   "source": [
    "len(set(protein_coocurrence.nodes) | set(protein_experimental_association.nodes) \n",
    "    | set(protein_text_mining.nodes) | set(protein_database_association.nodes))"
   ]
  },
  {
   "cell_type": "code",
   "execution_count": 15,
   "id": "5ea46f57",
   "metadata": {},
   "outputs": [],
   "source": [
    "pickle.dump(protein_coocurrence, open('input/protein_interaction_graph.pickle','wb'))"
   ]
  },
  {
   "cell_type": "code",
   "execution_count": 16,
   "id": "5b1d9ba8",
   "metadata": {},
   "outputs": [],
   "source": [
    "# protein_coocurrence = pickle.load(open('input/protein_interaction_graph.pickle','rb'))"
   ]
  },
  {
   "cell_type": "markdown",
   "id": "64b47cad",
   "metadata": {},
   "source": [
    "## Ensembl data"
   ]
  },
  {
   "cell_type": "code",
   "execution_count": 17,
   "id": "416f7853",
   "metadata": {},
   "outputs": [],
   "source": [
    "ensembl_data = json.load(open('input/homo_sapiens.json'))"
   ]
  },
  {
   "cell_type": "code",
   "execution_count": 18,
   "id": "ada667a1",
   "metadata": {},
   "outputs": [
    {
     "data": {
      "text/plain": [
       "67990"
      ]
     },
     "execution_count": 18,
     "metadata": {},
     "output_type": "execute_result"
    }
   ],
   "source": [
    "len(ensembl_data['genes'])"
   ]
  },
  {
   "cell_type": "code",
   "execution_count": 19,
   "id": "30f1460c",
   "metadata": {
    "scrolled": false
   },
   "outputs": [],
   "source": [
    "gene_protein = defaultdict(list)\n",
    "ensembl_regions = {}\n",
    "for item in ensembl_data['genes']:\n",
    "#     pprint(item)\n",
    "    if 'transcripts' in item:\n",
    "        for transcript in item['transcripts']:\n",
    "            if 'translations' in transcript:\n",
    "                for translation in transcript['translations']:\n",
    "                    gene = ('gene',item['id'])\n",
    "                    protein = ('protein', translation['id'])\n",
    "                    gene_protein[gene].append(protein)\n",
    "    if 'start' in item and 'end' in item and 'seq_region_name' in item:\n",
    "        gene = ('gene',item['id'])\n",
    "        chromosome = 'chr'+item['seq_region_name']\n",
    "        ensembl_regions[gene] = (chromosome, item['start'], item['end'])\n",
    "#     print('-'*80)\n",
    "gene_protein = dict(gene_protein)"
   ]
  },
  {
   "cell_type": "code",
   "execution_count": 20,
   "id": "37e182d7",
   "metadata": {},
   "outputs": [
    {
     "data": {
      "text/plain": [
       "24337"
      ]
     },
     "execution_count": 20,
     "metadata": {},
     "output_type": "execute_result"
    }
   ],
   "source": [
    "len(gene_protein)"
   ]
  },
  {
   "cell_type": "code",
   "execution_count": 21,
   "id": "69856b53",
   "metadata": {},
   "outputs": [
    {
     "data": {
      "text/plain": [
       "67990"
      ]
     },
     "execution_count": 21,
     "metadata": {},
     "output_type": "execute_result"
    }
   ],
   "source": [
    "len(ensembl_regions)"
   ]
  },
  {
   "cell_type": "code",
   "execution_count": 22,
   "id": "c46df8db",
   "metadata": {},
   "outputs": [],
   "source": [
    "all_hgnc_proteins = set([item for sublist in gene_protein.values() for item in sublist])"
   ]
  },
  {
   "cell_type": "code",
   "execution_count": 23,
   "id": "99c6e9e7",
   "metadata": {},
   "outputs": [
    {
     "data": {
      "text/plain": [
       "117680"
      ]
     },
     "execution_count": 23,
     "metadata": {},
     "output_type": "execute_result"
    }
   ],
   "source": [
    "len(all_hgnc_proteins)"
   ]
  },
  {
   "cell_type": "code",
   "execution_count": 24,
   "id": "7b947adb",
   "metadata": {},
   "outputs": [
    {
     "data": {
      "text/plain": [
       "99263"
      ]
     },
     "execution_count": 24,
     "metadata": {},
     "output_type": "execute_result"
    }
   ],
   "source": [
    "len(all_hgnc_proteins - set(protein_coocurrence.nodes()))"
   ]
  },
  {
   "cell_type": "code",
   "execution_count": 25,
   "id": "0cb79239",
   "metadata": {},
   "outputs": [
    {
     "data": {
      "text/plain": [
       "609"
      ]
     },
     "execution_count": 25,
     "metadata": {},
     "output_type": "execute_result"
    }
   ],
   "source": [
    "len(set(protein_coocurrence.nodes()) - set(all_hgnc_proteins))"
   ]
  },
  {
   "cell_type": "markdown",
   "id": "7c2bbd98",
   "metadata": {},
   "source": [
    "## Gene names in data"
   ]
  },
  {
   "cell_type": "code",
   "execution_count": 26,
   "id": "0387ed04",
   "metadata": {},
   "outputs": [],
   "source": [
    "gene_data = scanpy.read_h5ad('output/datasets/predict_modality/openproblems_bmmc_cite_phase1_mod2/openproblems_bmmc_cite_phase1_mod2.censor_dataset.output_train_mod2.h5ad')"
   ]
  },
  {
   "cell_type": "code",
   "execution_count": 27,
   "id": "e5b1c4db",
   "metadata": {},
   "outputs": [],
   "source": [
    "genes_in_data = gene_data.var['gene_ids'].to_list()"
   ]
  },
  {
   "cell_type": "code",
   "execution_count": 28,
   "id": "c550be36",
   "metadata": {},
   "outputs": [
    {
     "data": {
      "text/plain": [
       "13953"
      ]
     },
     "execution_count": 28,
     "metadata": {},
     "output_type": "execute_result"
    }
   ],
   "source": [
    "len(genes_in_data)"
   ]
  },
  {
   "cell_type": "code",
   "execution_count": 29,
   "id": "1431282b",
   "metadata": {},
   "outputs": [
    {
     "name": "stdout",
     "output_type": "stream",
     "text": [
      "23\n"
     ]
    }
   ],
   "source": [
    "not_in_ensembl = []\n",
    "for gene in genes_in_data:\n",
    "    gene = ('gene',gene)\n",
    "    if gene not in ensembl_regions:\n",
    "        not_in_ensembl.append(gene)\n",
    "print(len(not_in_ensembl))"
   ]
  },
  {
   "cell_type": "code",
   "execution_count": 30,
   "id": "ed9b48c4",
   "metadata": {},
   "outputs": [
    {
     "name": "stdout",
     "output_type": "stream",
     "text": [
      "0.001648391027019279\n"
     ]
    }
   ],
   "source": [
    "print(len(not_in_ensembl)/len(genes_in_data))"
   ]
  },
  {
   "cell_type": "markdown",
   "id": "3abefe77",
   "metadata": {},
   "source": [
    "## HGNC data"
   ]
  },
  {
   "cell_type": "code",
   "execution_count": 31,
   "id": "4f4dce7b",
   "metadata": {},
   "outputs": [],
   "source": [
    "hgnc = json.load(open('input/hgnc_complete_set.json'))['response']['docs']"
   ]
  },
  {
   "cell_type": "code",
   "execution_count": 32,
   "id": "947049c0",
   "metadata": {},
   "outputs": [
    {
     "name": "stdout",
     "output_type": "stream",
     "text": [
      "2913\n"
     ]
    }
   ],
   "source": [
    "gene_ensembl_id = {}\n",
    "\n",
    "no_ensembl = list()\n",
    "for item in hgnc:\n",
    "    symbols = []\n",
    "    if 'symbol' in item:\n",
    "        symbol = item['symbol']\n",
    "        symbols.append(symbol.upper())\n",
    "    if 'alias_symbol' in item:\n",
    "        alias_symbols = item['alias_symbol']\n",
    "        for symbol in alias_symbols:\n",
    "            symbols.append(symbol.upper())\n",
    "    \n",
    "    if len(symbols)>0 and 'ensembl_gene_id' in item:\n",
    "        ensembl_id = item['ensembl_gene_id']\n",
    "        gene = ('gene', ensembl_id)\n",
    "        for symbol in symbols:\n",
    "            if symbol in gene_ensembl_id:\n",
    "                gene_ensembl_id[symbol].append(gene)\n",
    "            else:\n",
    "                gene_ensembl_id[symbol] = [gene]\n",
    "    else:\n",
    "        no_ensembl.append(item)\n",
    "print(len(no_ensembl))\n",
    "\n",
    "no_symbols = []    "
   ]
  },
  {
   "cell_type": "code",
   "execution_count": 33,
   "id": "26308f02",
   "metadata": {},
   "outputs": [
    {
     "data": {
      "text/plain": [
       "dict_items([(1, 77472), (7, 3), (3, 179), (2, 1370), (4, 41), (6, 10), (5, 15), (8, 1), (9, 1)])"
      ]
     },
     "execution_count": 33,
     "metadata": {},
     "output_type": "execute_result"
    }
   ],
   "source": [
    "ids_per_symbol = Counter()\n",
    "for symbol, ids in gene_ensembl_id.items():\n",
    "    ids_per_symbol[len(ids)]+=1\n",
    "ids_per_symbol.items()"
   ]
  },
  {
   "cell_type": "code",
   "execution_count": 34,
   "id": "cc8c1af8",
   "metadata": {},
   "outputs": [],
   "source": [
    "# not_in_hgnc = list()\n",
    "# all_genes_in_hgnc = set(gene_ensembl_id.values())\n",
    "# for gene in genes_in_data:\n",
    "#     if gene not in all_genes_in_hgnc:\n",
    "#         not_in_hgnc.append(gene)\n",
    "# print(len(not_in_hgnc), len(genes_in_data))"
   ]
  },
  {
   "cell_type": "code",
   "execution_count": 35,
   "id": "1fecd8c6",
   "metadata": {},
   "outputs": [],
   "source": [
    "protein_data = scanpy.read_h5ad('output/datasets/predict_modality/openproblems_bmmc_cite_phase1_mod2/openproblems_bmmc_cite_phase1_mod2.censor_dataset.output_train_mod1.h5ad')\n",
    "\n",
    "protein_names = protein_data.var.index.to_list()"
   ]
  },
  {
   "cell_type": "code",
   "execution_count": 36,
   "id": "f935006a",
   "metadata": {},
   "outputs": [
    {
     "name": "stdout",
     "output_type": "stream",
     "text": [
      "25\n"
     ]
    }
   ],
   "source": [
    "protein_not_in_hgnc = []\n",
    "for protein in protein_names:\n",
    "    if protein.upper() not in gene_ensembl_id:\n",
    "        protein_not_in_hgnc.append(protein.upper())\n",
    "print(len(protein_not_in_hgnc))"
   ]
  },
  {
   "cell_type": "code",
   "execution_count": 37,
   "id": "7f02d1d6",
   "metadata": {},
   "outputs": [],
   "source": [
    "manually_mapped = {\n",
    "'CD3': ['ENSG00000198851', 'ENSG00000160654', 'ENSG00000167286', 'ENSG00000167286'],\n",
    "'CD8': ['ENSG00000172116', 'ENSG00000172116', 'ENSG00000172116', 'ENSG00000172116', 'ENSG00000172116', 'ENSG00000153563', 'ENSG00000153563', 'ENSG00000153563', 'ENSG00000254126'],\n",
    "'HLA-A-B-C': ['ENSG00000204525', 'ENSG00000234745', 'ENSG00000204525', ''],\n",
    "'CD45RA': ['ENSG00000081237', 'ENSG00000081237', 'ENSG00000262418', 'ENSG00000262418'],\n",
    "'CD45RO': ['ENSG00000081237', 'ENSG00000081237', 'ENSG00000262418', 'ENSG00000262418'],\n",
    "'CD20': ['ENSG00000156738', 'ENSG00000156738', 'ENSG00000156738', 'ENSG00000156738', 'ENSG00000156738'],\n",
    "'PODOPLANIN': ['ENSG00000162493', 'ENSG00000162493', 'ENSG00000162493', 'ENSG00000162493', 'ENSG00000162493', 'ENSG00000162493', 'ENSG00000162493'],\n",
    "'IGM': ['ENSG00000211899', 'ENSG00000282657', 'ENSG00000211899'],\n",
    "'HLA-DR': ['ENSG00000227993', 'ENSG00000206308', 'ENSG00000204287', 'ENSG00000234794', 'ENSG00000230726', 'ENSG00000228987', 'ENSG00000226260', 'ENSG00000196126', 'ENSG00000196101', 'ENSG00000231679'],\n",
    "'CD57': ['ENSG00000109956', 'ENSG00000109956', 'ENSG00000109956'],\n",
    "'CD39': ['ENSG00000138185', 'ENSG00000138185', 'ENSG00000138185', 'ENSG00000138185'],\n",
    "'CD11A': ['ENSG00000005844', 'ENSG00000005844'],\n",
    "'INTEGRINB7': ['ENSG00000139626'],\n",
    "'TCR': ['ENSG00000146399'],\n",
    "'FCERIA': ['ENSG00000179639'],\n",
    "'CD13': ['ENSG00000166825', 'ENSG00000166825', 'ENSG00000166825', 'ENSG00000166825'],\n",
    "'IGD': ['ENSG00000211898'],\n",
    "'CD18': ['ENSG00000160255', 'ENSG00000160255', 'ENSG00000160255', 'ENSG00000160255', 'ENSG00000160255'],\n",
    "'CD45': ['ENSG00000081237', 'ENSG00000081237', 'ENSG00000262418', 'ENSG00000262418'],\n",
    "'CD26': ['ENSG00000197635'],\n",
    "'CD158': ['ENSG00000189013', 'ENSG00000189013', 'ENSG00000189013', 'ENSG00000274232', 'ENSG00000275456', 'ENSG00000275317', 'ENSG00000277362', 'ENSG00000277750', 'ENSG00000273575', 'ENSG00000274232', 'ENSG00000274232', 'ENSG00000278271', 'ENSG00000278430', 'ENSG00000276044', 'ENSG00000278074', 'ENSG00000274609', 'ENSG00000276779', 'ENSG00000274955', 'ENSG00000277964', 'ENSG00000275317', 'ENSG00000278430', 'ENSG00000275699', 'ENSG00000284460', 'ENSG00000284365', 'ENSG00000284365', 'ENSG00000284013', 'ENSG00000283961', 'ENSG00000283869', 'ENSG00000283961', 'ENSG00000284013', 'ENSG00000284509', 'ENSG00000283961', 'ENSG00000284013', 'ENSG00000284365'],\n",
    "'TCRVA7.2': ['ENSG00000256553'],\n",
    "'TCRVD2': ['ENSG00000211821'],\n",
    "'CD158B': ['ENSG00000243772', 'ENSG00000274830', 'ENSG00000276218', 'ENSG00000277484', 'ENSG00000276590', 'ENSG00000278327', 'ENSG00000277554', 'ENSG00000275658', 'ENSG00000273887', 'ENSG00000274952', 'ENSG00000274410', 'ENSG00000275008', 'ENSG00000274108', 'ENSG00000275623', 'ENSG00000274402', 'ENSG00000277317', 'ENSG00000277924', 'ENSG00000276459', 'ENSG00000284333', 'ENSG00000283708', 'ENSG00000283702', 'ENSG00000283790', 'ENSG00000284504', 'ENSG00000284510'],\n",
    "'CD94': ['ENSG00000134539', 'ENSG00000134539', 'ENSG00000134539'],\n",
    "}\n",
    "for protein_name in manually_mapped:\n",
    "    gene_ensembl_id[protein_name] = [('gene',ensembl_id) for ensembl_id in manually_mapped[protein_name]]"
   ]
  },
  {
   "cell_type": "code",
   "execution_count": 38,
   "id": "fe280936",
   "metadata": {},
   "outputs": [
    {
     "name": "stdout",
     "output_type": "stream",
     "text": [
      "0\n"
     ]
    }
   ],
   "source": [
    "protein_not_in_hgnc = []\n",
    "for protein in protein_names:\n",
    "    if protein.upper() not in gene_ensembl_id:\n",
    "        protein_not_in_hgnc.append(protein.upper())\n",
    "print(len(protein_not_in_hgnc))"
   ]
  },
  {
   "cell_type": "markdown",
   "id": "185b922c",
   "metadata": {},
   "source": [
    "## Transcription Factor Data prep"
   ]
  },
  {
   "cell_type": "code",
   "execution_count": 39,
   "id": "88a81f98",
   "metadata": {},
   "outputs": [],
   "source": [
    "tf_file = open('input/tf-target-infomation.txt')\n",
    "header = next(tf_file)\n",
    "tf_target = nx.DiGraph()\n",
    "for line in tf_file:\n",
    "    tf, target, tissue = line.strip().split('\\t')\n",
    "    \n",
    "    if tf in gene_ensembl_id and target in gene_ensembl_id:\n",
    "        tf_genes = gene_ensembl_id[tf]\n",
    "        target_genes = gene_ensembl_id[target]\n",
    "        for tf_gene in tf_genes:\n",
    "            if tf_gene in gene_protein:\n",
    "                tf_proteins = gene_protein[tf_gene]\n",
    "                for tf_protein in tf_proteins:\n",
    "                    for target_gene in target_genes:\n",
    "                        tf_target.add_edge(tf_protein, target_gene, \n",
    "                                           interaction_type='tf_Unknown_protein_gene', weight=1.0)\n",
    "#                         tf_target.add_edge(target_gene, tf_protein,\n",
    "#                                            interaction_type='tf_Unknown_gene_protein', weight=1.0)"
   ]
  },
  {
   "cell_type": "code",
   "execution_count": 40,
   "id": "9bfa913e",
   "metadata": {},
   "outputs": [
    {
     "name": "stdout",
     "output_type": "stream",
     "text": [
      "27297\n",
      "7826011\n"
     ]
    }
   ],
   "source": [
    "print(tf_target.number_of_nodes())\n",
    "print(tf_target.number_of_edges())"
   ]
  },
  {
   "cell_type": "code",
   "execution_count": 41,
   "id": "8132b27f",
   "metadata": {},
   "outputs": [
    {
     "name": "stdout",
     "output_type": "stream",
     "text": [
      "3817\n"
     ]
    }
   ],
   "source": [
    "tf_target_proteins = []\n",
    "for node_type,node_id in tf_target.nodes:    \n",
    "    if node_type=='protein':\n",
    "        tf_target_proteins.append(node_id)\n",
    "print(len(set(tf_target_proteins)))"
   ]
  },
  {
   "cell_type": "code",
   "execution_count": 42,
   "id": "628375da",
   "metadata": {},
   "outputs": [],
   "source": [
    "tf_file = open('input/trrust_rawdata.human.tsv')\n",
    "\n",
    "trrust = nx.DiGraph()\n",
    "for line in tf_file:\n",
    "    tf, target, interaction_type, _ = line.strip().split('\\t')\n",
    "    if tf in gene_ensembl_id and target in gene_ensembl_id:\n",
    "        tf_genes = gene_ensembl_id[tf]\n",
    "        target_genes = gene_ensembl_id[target]\n",
    "        for tf_gene in tf_genes:\n",
    "            if tf_gene in gene_protein:\n",
    "                tf_proteins = gene_protein[tf_gene]\n",
    "                for tf_protein in tf_proteins:\n",
    "                    for target_gene in target_genes:\n",
    "                        trrust.add_edge(tf_protein, target_gene, \n",
    "                                           interaction_type=f'trrust_{interaction_type}_protein_gene', weight=1.0)\n",
    "#                         trrust.add_edge(target_gene, tf_protein,\n",
    "#                                            interaction_type=f'trrust_{interaction_type}_gene_protein', weight=1.0)\n"
   ]
  },
  {
   "cell_type": "code",
   "execution_count": 43,
   "id": "b166e174",
   "metadata": {},
   "outputs": [
    {
     "name": "stdout",
     "output_type": "stream",
     "text": [
      "8366\n",
      "84470\n"
     ]
    }
   ],
   "source": [
    "print(trrust.number_of_nodes())\n",
    "print(trrust.number_of_edges())"
   ]
  },
  {
   "cell_type": "code",
   "execution_count": 44,
   "id": "2c847ef4",
   "metadata": {},
   "outputs": [
    {
     "data": {
      "text/plain": [
       "3227"
      ]
     },
     "execution_count": 44,
     "metadata": {},
     "output_type": "execute_result"
    }
   ],
   "source": [
    "len(set(trrust.nodes) - set(tf_target.nodes))"
   ]
  },
  {
   "cell_type": "code",
   "execution_count": 45,
   "id": "f293fe42",
   "metadata": {},
   "outputs": [
    {
     "data": {
      "text/plain": [
       "22158"
      ]
     },
     "execution_count": 45,
     "metadata": {},
     "output_type": "execute_result"
    }
   ],
   "source": [
    "len(set(tf_target.nodes) - set(trrust.nodes))"
   ]
  },
  {
   "cell_type": "code",
   "execution_count": 46,
   "id": "269047cc",
   "metadata": {},
   "outputs": [
    {
     "data": {
      "text/plain": [
       "5139"
      ]
     },
     "execution_count": 46,
     "metadata": {},
     "output_type": "execute_result"
    }
   ],
   "source": [
    "len(set(tf_target.nodes) & set(trrust.nodes))"
   ]
  },
  {
   "cell_type": "code",
   "execution_count": 47,
   "id": "abbdb926",
   "metadata": {},
   "outputs": [],
   "source": [
    "tf_graph = nx.compose(tf_target, trrust)"
   ]
  },
  {
   "cell_type": "markdown",
   "id": "703cf053",
   "metadata": {},
   "source": [
    "## TAD data preparation"
   ]
  },
  {
   "cell_type": "code",
   "execution_count": 48,
   "id": "08cd92ba",
   "metadata": {},
   "outputs": [],
   "source": [
    "tad_files = !find input/TAD_annotations/TADs/ -type f -name '*10kb*'"
   ]
  },
  {
   "cell_type": "code",
   "execution_count": 49,
   "id": "23f6e0b0",
   "metadata": {},
   "outputs": [],
   "source": [
    "tad_regions = {ch:[] for ch in chromosomes}\n",
    "for filename in tad_files:\n",
    "    file = open(filename)\n",
    "    for line in file:\n",
    "        chromosome, start, end = line.strip().split(' ')\n",
    "        tad_regions[chromosome].append((int(start),int(end)))\n",
    "\n",
    "# sort tad starts along with the index to the end\n",
    "for chromosome in tad_regions:\n",
    "    tad_regions[chromosome] = sorted(tad_regions[chromosome])"
   ]
  },
  {
   "cell_type": "code",
   "execution_count": 50,
   "id": "24b94052",
   "metadata": {},
   "outputs": [
    {
     "data": {
      "text/plain": [
       "[(50000, 1240000),\n",
       " (535000, 1845000),\n",
       " (565000, 1605000),\n",
       " (565000, 1645000),\n",
       " (565000, 1675000)]"
      ]
     },
     "execution_count": 50,
     "metadata": {},
     "output_type": "execute_result"
    }
   ],
   "source": [
    "tad_regions['chr1'][:5]"
   ]
  },
  {
   "cell_type": "code",
   "execution_count": 51,
   "id": "de6c9046",
   "metadata": {},
   "outputs": [],
   "source": [
    "chromosome_gene_region = {chrm:[] for chrm in chromosomes}\n",
    "for gene, region in ensembl_regions.items():\n",
    "    chromosome, start, end = region\n",
    "    chromosome = chromosome\n",
    "    if chromosome in chromosomes:\n",
    "        chromosome_gene_region[chromosome].append((int(start), int(end), gene))"
   ]
  },
  {
   "cell_type": "code",
   "execution_count": 52,
   "id": "4dfb1776",
   "metadata": {},
   "outputs": [],
   "source": [
    "for chromosome in chromosome_gene_region:\n",
    "    chromosome_gene_region[chromosome] = sorted(chromosome_gene_region[chromosome])"
   ]
  },
  {
   "cell_type": "code",
   "execution_count": 53,
   "id": "1b699ef7",
   "metadata": {},
   "outputs": [],
   "source": [
    "tad_gene_linkages = defaultdict(list)\n",
    "\n",
    "for chromosome in chromosomes:\n",
    "    tad_idx = 0\n",
    "    gene_idx = 0\n",
    "    tads = tad_regions[chromosome]\n",
    "    genes = chromosome_gene_region[chromosome]\n",
    "        \n",
    "    while True:\n",
    "        tad_start, tad_end = tads[tad_idx]\n",
    "        gene_start, gene_end, gene = genes[gene_idx]\n",
    "        tad_term = ('tad', f'{chromosome}-{tad_start}-{tad_end}')\n",
    "        if (gene_start <= tad_end and gene_end >= tad_start):\n",
    "            tad_gene_linkages[tad_term].append(gene)\n",
    "            gene_idx = gene_idx+1\n",
    "            if gene_idx==len(genes):\n",
    "                break\n",
    "        elif gene_start <= tad_start:\n",
    "            gene_idx = gene_idx+1\n",
    "            if gene_idx==len(genes):\n",
    "                break\n",
    "        elif gene_start >= tad_end:\n",
    "            tad_idx = tad_idx+1\n",
    "            if tad_idx == len(tads):\n",
    "                break"
   ]
  },
  {
   "cell_type": "code",
   "execution_count": 54,
   "id": "efbfbd7a",
   "metadata": {},
   "outputs": [],
   "source": [
    "tad_gene_counts = Counter()\n",
    "for tad_id in tad_gene_linkages:\n",
    "    tad_gene_counts[len(tad_gene_linkages[tad_id])]+=1\n",
    "    "
   ]
  },
  {
   "cell_type": "code",
   "execution_count": 55,
   "id": "0df40b97",
   "metadata": {},
   "outputs": [
    {
     "data": {
      "text/plain": [
       "59732"
      ]
     },
     "execution_count": 55,
     "metadata": {},
     "output_type": "execute_result"
    }
   ],
   "source": [
    "sum([gene_count*tad_count for gene_count, tad_count in tad_gene_counts.items()])"
   ]
  },
  {
   "cell_type": "markdown",
   "id": "0ca37cb1",
   "metadata": {},
   "source": [
    "## Get all ATAC regions"
   ]
  },
  {
   "cell_type": "code",
   "execution_count": 56,
   "id": "4ea52d9f",
   "metadata": {},
   "outputs": [],
   "source": [
    "atac_data = scanpy.read_h5ad('output/datasets/predict_modality/openproblems_bmmc_multiome_phase1_mod2/openproblems_bmmc_multiome_phase1_mod2.censor_dataset.output_train_mod1.h5ad')"
   ]
  },
  {
   "cell_type": "code",
   "execution_count": 57,
   "id": "0bb81276",
   "metadata": {},
   "outputs": [
    {
     "data": {
      "text/plain": [
       "116490"
      ]
     },
     "execution_count": 57,
     "metadata": {},
     "output_type": "execute_result"
    }
   ],
   "source": [
    "len(atac_data.var)"
   ]
  },
  {
   "cell_type": "code",
   "execution_count": 58,
   "id": "1e7386f6",
   "metadata": {},
   "outputs": [],
   "source": [
    "atac_parsed = [tuple(x.split('-')) for x in atac_data.var.index.to_list()]\n",
    "atac_regions = {chrm:[] for chrm in chromosomes}\n",
    "for chromosome, start, end in atac_parsed:\n",
    "    if chromosome in atac_regions:\n",
    "        atac_regions[chromosome].append((int(start),int(end)))\n",
    "\n",
    "for chromosome in atac_regions:\n",
    "    atac_regions[chromosome] = sorted(atac_regions[chromosome])"
   ]
  },
  {
   "cell_type": "code",
   "execution_count": 59,
   "id": "ff253e5c",
   "metadata": {},
   "outputs": [
    {
     "data": {
      "text/plain": [
       "116490"
      ]
     },
     "execution_count": 59,
     "metadata": {},
     "output_type": "execute_result"
    }
   ],
   "source": [
    "len(atac_parsed)"
   ]
  },
  {
   "cell_type": "markdown",
   "id": "83942965",
   "metadata": {},
   "source": [
    "## ATAC to TAD linkage"
   ]
  },
  {
   "cell_type": "code",
   "execution_count": 60,
   "id": "13f8d696",
   "metadata": {},
   "outputs": [],
   "source": [
    "tad_atac_linkages = defaultdict(list)\n",
    "\n",
    "for chromosome in chromosomes:\n",
    "    atac_idx = 0\n",
    "    tad_idx = 0\n",
    "    atacs = atac_regions[chromosome]\n",
    "    tads = tad_regions[chromosome]\n",
    "        \n",
    "    while True:\n",
    "        atac_start, atac_end = atacs[atac_idx]\n",
    "        tad_start, tad_end = tads[tad_idx]\n",
    "        tad_term = ('tad', f'{chromosome}-{tad_start}-{tad_end}')\n",
    "        atac_term = ('atac_region', f'{chromosome}-{atac_start}-{atac_end}')\n",
    "\n",
    "        if (atac_start <= tad_end and atac_end >= tad_start):\n",
    "            tad_atac_linkages[tad_term].append(atac_term)\n",
    "            atac_idx = atac_idx+1\n",
    "            if atac_idx==len(atacs):\n",
    "                break\n",
    "        elif atac_start <= tad_start:\n",
    "            atac_idx = atac_idx+1\n",
    "            if atac_idx==len(atacs):\n",
    "                break\n",
    "        elif atac_start >= tad_end:\n",
    "            tad_idx = tad_idx+1\n",
    "            if tad_idx == len(tads):\n",
    "                break\n"
   ]
  },
  {
   "cell_type": "code",
   "execution_count": 61,
   "id": "ad29bb76",
   "metadata": {},
   "outputs": [],
   "source": [
    "tad_atac_counts = Counter()\n",
    "for tad_id in tad_atac_linkages:\n",
    "    tad_atac_counts[len(tad_atac_linkages[tad_id])]+=1\n",
    "    "
   ]
  },
  {
   "cell_type": "code",
   "execution_count": 62,
   "id": "177b08e6",
   "metadata": {},
   "outputs": [
    {
     "data": {
      "text/plain": [
       "116232"
      ]
     },
     "execution_count": 62,
     "metadata": {},
     "output_type": "execute_result"
    }
   ],
   "source": [
    "sum([number*count for number,count in tad_atac_counts.items()])"
   ]
  },
  {
   "cell_type": "markdown",
   "id": "e695723f",
   "metadata": {},
   "source": [
    "## Gene to ATAC linkage"
   ]
  },
  {
   "cell_type": "code",
   "execution_count": 63,
   "id": "f4ede532",
   "metadata": {},
   "outputs": [],
   "source": [
    "atac_gene_linkages = defaultdict(list)\n",
    "\n",
    "for chromosome in chromosomes:\n",
    "    atac_idx = 0\n",
    "    gene_idx = 0\n",
    "    atacs = atac_regions[chromosome]\n",
    "    genes = chromosome_gene_region[chromosome]\n",
    "        \n",
    "    while True:\n",
    "        atac_start, atac_end = atacs[atac_idx]\n",
    "        gene_start, gene_end, gene = genes[gene_idx]\n",
    "        atac_term = ('atac_region', f'{chromosome}-{atac_start}-{atac_end}')\n",
    "        if (gene_start <= atac_end and gene_end >= atac_start):\n",
    "            atac_gene_linkages[atac_term].append(gene)\n",
    "            gene_idx = gene_idx+1\n",
    "            if gene_idx==len(genes):\n",
    "                break\n",
    "        elif gene_start <= atac_start:\n",
    "            gene_idx = gene_idx+1\n",
    "            if gene_idx==len(genes):\n",
    "                break\n",
    "        elif gene_start >= atac_end:\n",
    "            atac_idx = atac_idx+1\n",
    "            if atac_idx == len(atacs):\n",
    "                break\n",
    "atac_gene_linkages = dict(atac_gene_linkages)"
   ]
  },
  {
   "cell_type": "code",
   "execution_count": 64,
   "id": "0345b415",
   "metadata": {},
   "outputs": [],
   "source": [
    "atac_gene_counts = Counter()\n",
    "for atac_term in atac_gene_linkages:\n",
    "    atac_gene_counts[len(atac_gene_linkages[atac_term])]+=1\n",
    "    "
   ]
  },
  {
   "cell_type": "code",
   "execution_count": 65,
   "id": "472771ec",
   "metadata": {},
   "outputs": [
    {
     "name": "stdout",
     "output_type": "stream",
     "text": [
      "27233\n",
      "23885\n"
     ]
    }
   ],
   "source": [
    "print(sum([number*count for number,count in atac_gene_counts.items()]))\n",
    "print(len(set([item for linked in atac_gene_linkages for item in linked])))"
   ]
  },
  {
   "cell_type": "markdown",
   "id": "086b8f43",
   "metadata": {},
   "source": [
    "## Enhancer ATAC overlap "
   ]
  },
  {
   "cell_type": "code",
   "execution_count": 66,
   "id": "9a6b81dd",
   "metadata": {},
   "outputs": [],
   "source": [
    "enhancer_file = open('input/hacer_enhancers.txt')\n",
    "\n",
    "enhancer_regions = {chromosome:[] \n",
    "                    for chromosome in chromosomes}\n",
    "enhancer_genes = defaultdict(list)\n",
    "\n",
    "for line in enhancer_file:\n",
    "    fields = line.strip().split('\\t')\n",
    "    enhancer_id = fields[0]\n",
    "    chromosome = fields[1]\n",
    "    start = int(fields[2])\n",
    "    end = int(fields[3])\n",
    "    fantom5_gene = fields[6]\n",
    "    fiftykb_gene = fields[7]\n",
    "    fourd_gene = fields[8]\n",
    "    closest_gene = fields[12]\n",
    "\n",
    "    genes = ','.join([fantom5_gene, fiftykb_gene, \n",
    "                      fourd_gene, closest_gene])\n",
    "    \n",
    "    if chromosome in enhancer_regions:\n",
    "        enhancer_regions[chromosome].append((start,end))\n",
    "    \n",
    "    enhancer_term = ('enhancer', f'{chromosome}-{start}-{end}')\n",
    "\n",
    "    for gene in re.split('[,;]', genes):\n",
    "        if gene != 'NA':\n",
    "            enhancer_genes[enhancer_term].append(gene)"
   ]
  },
  {
   "cell_type": "code",
   "execution_count": 67,
   "id": "e667ff94",
   "metadata": {},
   "outputs": [],
   "source": [
    "enhancer_regions = {chromosome: sorted(regions) \n",
    "                    for chromosome, regions in enhancer_regions.items()}"
   ]
  },
  {
   "cell_type": "code",
   "execution_count": 68,
   "id": "a2d4043f",
   "metadata": {},
   "outputs": [],
   "source": [
    "enhancer_atac_graph = nx.DiGraph()\n",
    "atac_enhancer_linkages = defaultdict(list)\n",
    "\n",
    "for chromosome in chromosomes:\n",
    "    atac_idx = 0\n",
    "    enhancer_idx = 0\n",
    "    atacs = atac_regions[chromosome]\n",
    "    enhancers = enhancer_regions[chromosome]\n",
    "        \n",
    "    while True:\n",
    "        atac_start, atac_end = atacs[atac_idx]\n",
    "        enhancer_start, enhancer_end = enhancers[enhancer_idx]\n",
    "        atac_term = ('atac_region', f'{chromosome}-{atac_start}-{atac_end}')\n",
    "        enhancer_term = ('enhancer', f'{chromosome}-{enhancer_start}-{enhancer_end}')\n",
    "        if (enhancer_start <= atac_end and enhancer_end >= atac_start):\n",
    "            atac_enhancer_linkages[atac_term].append(enhancer_term)\n",
    "            enhancer_idx = enhancer_idx+1\n",
    "            if enhancer_idx==len(enhancers):\n",
    "                break\n",
    "        elif enhancer_start <= atac_start:\n",
    "            enhancer_idx = enhancer_idx+1\n",
    "            if enhancer_idx==len(enhancers):\n",
    "                break\n",
    "        elif enhancer_start >= atac_end:\n",
    "            atac_idx = atac_idx+1\n",
    "            if atac_idx == len(atacs):\n",
    "                break\n",
    "                \n",
    "atac_enhancer_linkages = dict(atac_enhancer_linkages)    "
   ]
  },
  {
   "cell_type": "code",
   "execution_count": 69,
   "id": "71b25546",
   "metadata": {},
   "outputs": [
    {
     "name": "stdout",
     "output_type": "stream",
     "text": [
      "15414\n"
     ]
    }
   ],
   "source": [
    "atac_enhancer_counts = Counter()\n",
    "for atac, enhancers in atac_enhancer_linkages.items():\n",
    "    atac_enhancer_counts[len(enhancers)]+=1\n",
    "atac_enhancer_counts.most_common(10)\n",
    "\n",
    "# Number of unique atac regions\n",
    "print(len(set([item for linked in atac_enhancer_linkages for item in linked])))"
   ]
  },
  {
   "cell_type": "markdown",
   "id": "de61adc3",
   "metadata": {},
   "source": [
    "## ATAC - k nearest genes"
   ]
  },
  {
   "cell_type": "code",
   "execution_count": 70,
   "id": "9e56ab5b",
   "metadata": {},
   "outputs": [],
   "source": [
    "from sklearn.neighbors import KDTree"
   ]
  },
  {
   "cell_type": "code",
   "execution_count": 71,
   "id": "1314d31f",
   "metadata": {},
   "outputs": [],
   "source": [
    "k=6\n",
    "\n",
    "atac_neighbor_genes = nx.DiGraph()\n",
    "\n",
    "for chromosome, atacs in atac_regions.items():\n",
    "    starts, ends, genes = zip(*chromosome_gene_region[chromosome])\n",
    "    start_tree = KDTree(np.array(starts).reshape(-1,1))\n",
    "    end_tree = KDTree(np.array(ends).reshape(-1,1))\n",
    "    atac_starts, atac_ends = zip(*atacs)\n",
    "    atac_starts = np.array(atac_starts).reshape(-1,1)\n",
    "    atac_ends = np.array(atac_ends).reshape(-1,1)\n",
    "    end_dists, end_idxs = end_tree.query(atac_starts,k=k)\n",
    "    start_dists, start_idxs = start_tree.query(atac_ends,k=k)\n",
    "    dists = np.concatenate((start_dists, end_dists),axis=1)\n",
    "    idxs = np.concatenate((start_idxs, end_idxs), axis=1)\n",
    "    sorted_dists = np.argsort(dists, axis=1)\n",
    "    closest_idxs = np.take_along_axis(idxs, sorted_dists, axis=1)\n",
    "    closest_dists = np.take_along_axis(dists, sorted_dists, axis=1)\n",
    "    for i,row in enumerate(closest_idxs):\n",
    "        row = np.unique(row)[:k]\n",
    "        for j,idx in enumerate(row):\n",
    "            atac = atacs[i]\n",
    "            atac_term = ('atac_region', f'{chromosome}-{atac[0]}-{atac[1]}')\n",
    "            gene = genes[idx]\n",
    "            dist = closest_dists[i,j]\n",
    "            atac_neighbor_genes.add_edge(atac_term, gene, distance=dist)\n"
   ]
  },
  {
   "cell_type": "markdown",
   "id": "cce8174f",
   "metadata": {},
   "source": [
    "### Check that each node has the right number (k) neighbors"
   ]
  },
  {
   "cell_type": "code",
   "execution_count": 72,
   "id": "10e4f1f1",
   "metadata": {},
   "outputs": [
    {
     "data": {
      "text/plain": [
       "[(6, 116465)]"
      ]
     },
     "execution_count": 72,
     "metadata": {},
     "output_type": "execute_result"
    }
   ],
   "source": [
    "c=Counter()\n",
    "for chromosome, atacs in atac_regions.items():\n",
    "    for atac in atacs:\n",
    "        atac_term = ('atac_region', f'{chromosome}-{atac[0]}-{atac[1]}')\n",
    "        c[len(atac_neighbor_genes[atac_term])] +=1\n",
    "c.most_common()"
   ]
  },
  {
   "cell_type": "markdown",
   "id": "dfba310d",
   "metadata": {},
   "source": [
    "## Link gene products with structure"
   ]
  },
  {
   "cell_type": "code",
   "execution_count": 73,
   "id": "bee5c794",
   "metadata": {},
   "outputs": [],
   "source": [
    "gene_protein_graph = nx.DiGraph()\n",
    "\n",
    "for gene, proteins in gene_protein.items():\n",
    "    for protein in proteins:\n",
    "        gene_protein_graph.add_edge(gene, protein, interaction_type='gene_protein', weight=1.0)\n",
    "#         gene_protein_graph.add_edge(protein, gene, interaction_type='protein_gene', weight=1.0)"
   ]
  },
  {
   "cell_type": "code",
   "execution_count": 74,
   "id": "5fc33b6a",
   "metadata": {},
   "outputs": [],
   "source": [
    "pickle.dump(gene_protein, open('input/gene_protein_association.pickle','wb'))"
   ]
  },
  {
   "cell_type": "code",
   "execution_count": 75,
   "id": "35a148e6",
   "metadata": {},
   "outputs": [
    {
     "name": "stdout",
     "output_type": "stream",
     "text": [
      "142017\n",
      "117680\n"
     ]
    }
   ],
   "source": [
    "print(gene_protein_graph.number_of_nodes())\n",
    "print(gene_protein_graph.number_of_edges())"
   ]
  },
  {
   "cell_type": "markdown",
   "id": "0306be03",
   "metadata": {},
   "source": [
    "## Link Protein Names with ID's"
   ]
  },
  {
   "cell_type": "code",
   "execution_count": 76,
   "id": "c1ce2fca",
   "metadata": {},
   "outputs": [],
   "source": [
    "protein_name_proteins = dict()\n",
    "for protein_name, genes in gene_ensembl_id.items():\n",
    "    protein_name_proteins[protein_name] = []\n",
    "    for gene in genes:\n",
    "        if gene in gene_protein:\n",
    "            proteins = gene_protein[gene]\n",
    "            protein_name_proteins[protein_name] += proteins"
   ]
  },
  {
   "cell_type": "code",
   "execution_count": 77,
   "id": "449caaf2",
   "metadata": {},
   "outputs": [],
   "source": [
    "protein_name_protein_graph = nx.DiGraph()\n",
    "for protein_name, protein_ids in protein_name_proteins.items():\n",
    "    for protein_id in protein_ids:\n",
    "        protein_name_protein_graph.add_edge(protein_id, ('protein_name',protein_name))"
   ]
  },
  {
   "cell_type": "code",
   "execution_count": 78,
   "id": "c75d28cd",
   "metadata": {},
   "outputs": [
    {
     "name": "stdout",
     "output_type": "stream",
     "text": [
      "158258\n",
      "317549\n"
     ]
    }
   ],
   "source": [
    "print(protein_name_protein_graph.number_of_nodes())\n",
    "print(protein_name_protein_graph.number_of_edges())"
   ]
  },
  {
   "cell_type": "markdown",
   "id": "abb5a3f9",
   "metadata": {},
   "source": [
    "## Count Intersections for quality control\n",
    "\n",
    "Make sure that species names overlap between graphs"
   ]
  },
  {
   "cell_type": "code",
   "execution_count": 79,
   "id": "2604d685",
   "metadata": {},
   "outputs": [
    {
     "name": "stdout",
     "output_type": "stream",
     "text": [
      "19026\n",
      "6525628\n"
     ]
    }
   ],
   "source": [
    "print(protein_coocurrence.number_of_nodes())\n",
    "print(protein_coocurrence.number_of_edges())"
   ]
  },
  {
   "cell_type": "code",
   "execution_count": 80,
   "id": "747bb168",
   "metadata": {},
   "outputs": [
    {
     "data": {
      "text/plain": [
       "18417"
      ]
     },
     "execution_count": 80,
     "metadata": {},
     "output_type": "execute_result"
    }
   ],
   "source": [
    "len(set(protein_coocurrence.nodes) & set(gene_protein_graph.nodes))"
   ]
  },
  {
   "cell_type": "code",
   "execution_count": 81,
   "id": "69b901ef",
   "metadata": {},
   "outputs": [],
   "source": [
    "# len(set(tad_genes_graph.nodes) & set(tad_atac_graph.nodes))"
   ]
  },
  {
   "cell_type": "code",
   "execution_count": 82,
   "id": "28a05594",
   "metadata": {},
   "outputs": [],
   "source": [
    "# len(set(atac_gene_graph.nodes) & set(tad_atac_graph.nodes))"
   ]
  },
  {
   "cell_type": "code",
   "execution_count": 83,
   "id": "3f94bca9",
   "metadata": {},
   "outputs": [
    {
     "data": {
      "text/plain": [
       "487"
      ]
     },
     "execution_count": 83,
     "metadata": {},
     "output_type": "execute_result"
    }
   ],
   "source": [
    "len(set(tf_target.nodes) & set(protein_coocurrence.nodes))"
   ]
  },
  {
   "cell_type": "code",
   "execution_count": 84,
   "id": "e09f8f01",
   "metadata": {},
   "outputs": [
    {
     "data": {
      "text/plain": [
       "6768"
      ]
     },
     "execution_count": 84,
     "metadata": {},
     "output_type": "execute_result"
    }
   ],
   "source": [
    "len(set([node for node_type,node in gene_protein_graph.nodes if node_type=='protein']) & \n",
    "    set([node for node_type,node in tf_graph.nodes if node_type=='protein']))"
   ]
  },
  {
   "cell_type": "code",
   "execution_count": 85,
   "id": "56e75f0f",
   "metadata": {},
   "outputs": [
    {
     "data": {
      "text/plain": [
       "6768"
      ]
     },
     "execution_count": 85,
     "metadata": {},
     "output_type": "execute_result"
    }
   ],
   "source": [
    "len(set([node for node_type,node in tf_graph.nodes if node_type=='protein']))"
   ]
  },
  {
   "cell_type": "markdown",
   "id": "101ae6fd",
   "metadata": {},
   "source": [
    "## Relabel proteins in graphs to unified synonyms "
   ]
  },
  {
   "cell_type": "markdown",
   "id": "6fd562a9",
   "metadata": {},
   "source": [
    "proteins associated with genes - from HGNC most complete\n",
    "\n",
    "proteins in data - gene association\n",
    "\n",
    "proteins in co-occurrence - some not in data\n",
    "\n",
    "proteins in transcription factors - some not in data"
   ]
  },
  {
   "cell_type": "code",
   "execution_count": 86,
   "id": "b447805a",
   "metadata": {},
   "outputs": [],
   "source": [
    "protein_gene = dict()\n",
    "for gene,proteins in gene_protein.items():\n",
    "    for protein in proteins:\n",
    "        protein_gene[protein] = gene"
   ]
  },
  {
   "cell_type": "code",
   "execution_count": 87,
   "id": "752713f5",
   "metadata": {},
   "outputs": [
    {
     "name": "stdout",
     "output_type": "stream",
     "text": [
      "117680\n"
     ]
    }
   ],
   "source": [
    "synonym_mapping = dict()\n",
    "# not_mapped\n",
    "for protein in protein_gene:\n",
    "    gene = protein_gene[protein]\n",
    "    synonym_mapping[protein] = gene_protein[gene][0]\n",
    "print(len(synonym_mapping))"
   ]
  },
  {
   "cell_type": "code",
   "execution_count": 88,
   "id": "58c95607",
   "metadata": {},
   "outputs": [],
   "source": [
    "protein_coocurrence = nx.relabel.relabel_nodes(protein_coocurrence, synonym_mapping)"
   ]
  },
  {
   "cell_type": "code",
   "execution_count": 89,
   "id": "2b995a3e",
   "metadata": {},
   "outputs": [],
   "source": [
    "tf_graph = nx.relabel.relabel_nodes(tf_graph, synonym_mapping)"
   ]
  },
  {
   "cell_type": "code",
   "execution_count": 90,
   "id": "14aa2081",
   "metadata": {},
   "outputs": [],
   "source": [
    "protein_name_protein_graph = nx.relabel.relabel_nodes(protein_name_protein_graph, synonym_mapping)"
   ]
  },
  {
   "cell_type": "code",
   "execution_count": 91,
   "id": "dbc93803",
   "metadata": {},
   "outputs": [],
   "source": [
    "gene_protein_graph = nx.relabel.relabel_nodes(gene_protein_graph, synonym_mapping)"
   ]
  },
  {
   "cell_type": "code",
   "execution_count": 92,
   "id": "537ab2b5",
   "metadata": {},
   "outputs": [
    {
     "name": "stdout",
     "output_type": "stream",
     "text": [
      "48674\n",
      "24337\n"
     ]
    }
   ],
   "source": [
    "print(len(gene_protein_graph.nodes))\n",
    "print(len(gene_protein_graph.edges))"
   ]
  },
  {
   "cell_type": "code",
   "execution_count": 93,
   "id": "d92b38f4",
   "metadata": {},
   "outputs": [
    {
     "name": "stdout",
     "output_type": "stream",
     "text": [
      "72821\n",
      "54792\n"
     ]
    }
   ],
   "source": [
    "print(len(protein_name_protein_graph.nodes))\n",
    "print(len(protein_name_protein_graph.edges))"
   ]
  },
  {
   "cell_type": "code",
   "execution_count": 94,
   "id": "d4126858",
   "metadata": {},
   "outputs": [
    {
     "name": "stdout",
     "output_type": "stream",
     "text": [
      "24729\n",
      "983464\n"
     ]
    }
   ],
   "source": [
    "print(len(tf_graph.nodes))\n",
    "print(len(tf_graph.edges))"
   ]
  },
  {
   "cell_type": "code",
   "execution_count": 95,
   "id": "9865af9f",
   "metadata": {},
   "outputs": [
    {
     "data": {
      "text/plain": [
       "973"
      ]
     },
     "execution_count": 95,
     "metadata": {},
     "output_type": "execute_result"
    }
   ],
   "source": [
    "len(set(tf_graph.nodes) & set(synonym_mapping.keys()))"
   ]
  },
  {
   "cell_type": "code",
   "execution_count": 96,
   "id": "e8f53a07",
   "metadata": {},
   "outputs": [
    {
     "data": {
      "text/plain": [
       "973"
      ]
     },
     "execution_count": 96,
     "metadata": {},
     "output_type": "execute_result"
    }
   ],
   "source": [
    "len(set([node for ntype, node in tf_graph.nodes if ntype=='protein']))"
   ]
  },
  {
   "cell_type": "code",
   "execution_count": 97,
   "id": "90d3bfcf",
   "metadata": {},
   "outputs": [
    {
     "data": {
      "text/plain": [
       "946"
      ]
     },
     "execution_count": 97,
     "metadata": {},
     "output_type": "execute_result"
    }
   ],
   "source": [
    "len(set(tf_graph.nodes) & set(protein_coocurrence.nodes))"
   ]
  },
  {
   "cell_type": "code",
   "execution_count": 98,
   "id": "7cb7001b",
   "metadata": {},
   "outputs": [
    {
     "data": {
      "text/plain": [
       "18380"
      ]
     },
     "execution_count": 98,
     "metadata": {},
     "output_type": "execute_result"
    }
   ],
   "source": [
    "len(set(gene_protein_graph.nodes) & set(protein_coocurrence.nodes))"
   ]
  },
  {
   "cell_type": "code",
   "execution_count": 99,
   "id": "51f9ef0b",
   "metadata": {},
   "outputs": [
    {
     "data": {
      "text/plain": [
       "973"
      ]
     },
     "execution_count": 99,
     "metadata": {},
     "output_type": "execute_result"
    }
   ],
   "source": [
    "len(set([node for node_type,node in gene_protein_graph.nodes if node_type=='protein']) & \n",
    "    set([node for node_type,node in tf_graph.nodes if node_type=='protein']))"
   ]
  },
  {
   "cell_type": "code",
   "execution_count": 100,
   "id": "52bfd7ab",
   "metadata": {},
   "outputs": [
    {
     "data": {
      "text/plain": [
       "973"
      ]
     },
     "execution_count": 100,
     "metadata": {},
     "output_type": "execute_result"
    }
   ],
   "source": [
    "len(set([node for node_type,node in tf_graph.nodes if node_type=='protein']))"
   ]
  },
  {
   "cell_type": "markdown",
   "id": "8f9c5c24",
   "metadata": {},
   "source": [
    "## Match genes to proteins\n",
    "\n",
    "Genes in data\n",
    "\n",
    "Genes corresponding to proteins in graph"
   ]
  },
  {
   "cell_type": "code",
   "execution_count": 101,
   "id": "c307b204",
   "metadata": {},
   "outputs": [],
   "source": [
    "gene_data1 = scanpy.read_h5ad('output/datasets/predict_modality/' + \n",
    "                              'openproblems_bmmc_cite_phase1_mod2/'+\n",
    "                              'openproblems_bmmc_cite_phase1_mod2.censor_dataset.output_train_mod2.h5ad')"
   ]
  },
  {
   "cell_type": "code",
   "execution_count": 102,
   "id": "768d731d",
   "metadata": {},
   "outputs": [],
   "source": [
    "gene_data2 = scanpy.read_h5ad('output/datasets/predict_modality/' + \n",
    "                              'openproblems_bmmc_multiome_phase1_rna' + \n",
    "                              '/openproblems_bmmc_multiome_phase1_rna.censor_dataset.output_train_mod1.h5ad')"
   ]
  },
  {
   "cell_type": "code",
   "execution_count": 103,
   "id": "3534e69d",
   "metadata": {},
   "outputs": [],
   "source": [
    "genes1 = set(gene_data1.var['gene_ids'])"
   ]
  },
  {
   "cell_type": "code",
   "execution_count": 104,
   "id": "cf57522f",
   "metadata": {},
   "outputs": [],
   "source": [
    "genes2 = set(gene_data2.var['gene_ids'])"
   ]
  },
  {
   "cell_type": "code",
   "execution_count": 105,
   "id": "76d396a7",
   "metadata": {},
   "outputs": [
    {
     "data": {
      "text/plain": [
       "13953"
      ]
     },
     "execution_count": 105,
     "metadata": {},
     "output_type": "execute_result"
    }
   ],
   "source": [
    "len(genes1)"
   ]
  },
  {
   "cell_type": "code",
   "execution_count": 106,
   "id": "cde8c65a",
   "metadata": {},
   "outputs": [
    {
     "data": {
      "text/plain": [
       "13431"
      ]
     },
     "execution_count": 106,
     "metadata": {},
     "output_type": "execute_result"
    }
   ],
   "source": [
    "len(genes2)"
   ]
  },
  {
   "cell_type": "code",
   "execution_count": 107,
   "id": "b0a7ce70",
   "metadata": {},
   "outputs": [],
   "source": [
    "all_genes_in_data = set([('gene', gene) for gene in (genes1 | genes2)])"
   ]
  },
  {
   "cell_type": "code",
   "execution_count": 108,
   "id": "837cc512",
   "metadata": {},
   "outputs": [
    {
     "data": {
      "text/plain": [
       "15325"
      ]
     },
     "execution_count": 108,
     "metadata": {},
     "output_type": "execute_result"
    }
   ],
   "source": [
    "len(all_genes_in_data)"
   ]
  },
  {
   "cell_type": "code",
   "execution_count": 109,
   "id": "5708aeb6",
   "metadata": {},
   "outputs": [],
   "source": [
    "proteins_in_data = protein_data.var.index.to_list()"
   ]
  },
  {
   "cell_type": "code",
   "execution_count": 110,
   "id": "2756b66b",
   "metadata": {},
   "outputs": [],
   "source": [
    "proteins_in_data_to_genes = set()\n",
    "for protein_name in proteins_in_data:\n",
    "    proteins = protein_name_proteins[protein_name.upper()]\n",
    "    for protein in proteins:\n",
    "        proteins_in_data_to_genes.add(protein_gene[protein])\n",
    "#     synonym_mapping[] "
   ]
  },
  {
   "cell_type": "code",
   "execution_count": 111,
   "id": "339076f0",
   "metadata": {},
   "outputs": [
    {
     "data": {
      "text/plain": [
       "195"
      ]
     },
     "execution_count": 111,
     "metadata": {},
     "output_type": "execute_result"
    }
   ],
   "source": [
    "len(proteins_in_data_to_genes)"
   ]
  },
  {
   "cell_type": "code",
   "execution_count": 112,
   "id": "02ecb398",
   "metadata": {},
   "outputs": [],
   "source": [
    "all_proteins_from_external = set(tf_graph.nodes) |  set(protein_coocurrence.nodes) | set(proteins_in_data_to_genes)"
   ]
  },
  {
   "cell_type": "code",
   "execution_count": 113,
   "id": "465c5eb3",
   "metadata": {},
   "outputs": [],
   "source": [
    "all_proteins_from_external = [(ntype, node) for ntype,node in all_proteins_from_external if ntype=='protein']"
   ]
  },
  {
   "cell_type": "code",
   "execution_count": 114,
   "id": "94c7b9d3",
   "metadata": {},
   "outputs": [],
   "source": [
    "genes_from_external_proteins = set()\n",
    "unmapped_external_proteins = list()\n",
    "for protein in all_proteins_from_external:\n",
    "    if protein in synonym_mapping:\n",
    "        protein = synonym_mapping[protein]\n",
    "        genes_from_external_proteins.add(protein_gene[protein])\n",
    "    else:\n",
    "        unmapped_external_proteins.append(protein)"
   ]
  },
  {
   "cell_type": "code",
   "execution_count": 115,
   "id": "73d32f98",
   "metadata": {},
   "outputs": [
    {
     "data": {
      "text/plain": [
       "18407"
      ]
     },
     "execution_count": 115,
     "metadata": {},
     "output_type": "execute_result"
    }
   ],
   "source": [
    "len(genes_from_external_proteins)"
   ]
  },
  {
   "cell_type": "code",
   "execution_count": 116,
   "id": "d963359c",
   "metadata": {},
   "outputs": [
    {
     "data": {
      "text/plain": [
       "609"
      ]
     },
     "execution_count": 116,
     "metadata": {},
     "output_type": "execute_result"
    }
   ],
   "source": [
    "len(set(unmapped_external_proteins) & set(protein_coocurrence.nodes))"
   ]
  },
  {
   "cell_type": "code",
   "execution_count": 117,
   "id": "ab852f60",
   "metadata": {},
   "outputs": [],
   "source": [
    "all_genes = genes_from_external_proteins | proteins_in_data_to_genes "
   ]
  },
  {
   "cell_type": "code",
   "execution_count": 118,
   "id": "2406742c",
   "metadata": {},
   "outputs": [
    {
     "data": {
      "text/plain": [
       "18470"
      ]
     },
     "execution_count": 118,
     "metadata": {},
     "output_type": "execute_result"
    }
   ],
   "source": [
    "len(all_genes)"
   ]
  },
  {
   "cell_type": "markdown",
   "id": "568b86c7",
   "metadata": {},
   "source": [
    "## Enhancer - genes Graph"
   ]
  },
  {
   "cell_type": "code",
   "execution_count": 119,
   "id": "77202b6f",
   "metadata": {},
   "outputs": [],
   "source": [
    "enhancer_gene_graph = nx.DiGraph()\n",
    "for enhancer, genes in enhancer_genes.items():\n",
    "    for gene in genes:\n",
    "        if gene in gene_ensembl_id:\n",
    "            ensembl_ids = gene_ensembl_id[gene]\n",
    "            for ensembl_id in ensembl_ids:\n",
    "                enhancer_gene_graph.add_edge(enhancer, ensembl_id)\n"
   ]
  },
  {
   "cell_type": "code",
   "execution_count": 120,
   "id": "0e3bffe9",
   "metadata": {},
   "outputs": [
    {
     "name": "stdout",
     "output_type": "stream",
     "text": [
      "209170\n",
      "494411\n"
     ]
    }
   ],
   "source": [
    "print(len(enhancer_gene_graph.nodes))\n",
    "print(len(enhancer_gene_graph.edges))"
   ]
  },
  {
   "cell_type": "markdown",
   "id": "0fc4d475",
   "metadata": {},
   "source": [
    "## Enhancer - ATAC graph"
   ]
  },
  {
   "cell_type": "code",
   "execution_count": 121,
   "id": "cd9d32ef",
   "metadata": {},
   "outputs": [],
   "source": [
    "enhancer_atac_graph = nx.DiGraph()\n",
    "for atac,enhancers in atac_enhancer_linkages.items():\n",
    "    for enhancer in enhancers:\n",
    "        enhancer_atac_graph.add_edge(enhancer, atac)"
   ]
  },
  {
   "cell_type": "code",
   "execution_count": 122,
   "id": "00958048",
   "metadata": {},
   "outputs": [
    {
     "name": "stdout",
     "output_type": "stream",
     "text": [
      "47363\n",
      "31950\n"
     ]
    }
   ],
   "source": [
    "print(len(enhancer_atac_graph.nodes))\n",
    "print(len(enhancer_atac_graph.edges))"
   ]
  },
  {
   "cell_type": "markdown",
   "id": "f350bc74",
   "metadata": {},
   "source": [
    "## Graph with Transcripts/TADs/ATAC"
   ]
  },
  {
   "cell_type": "code",
   "execution_count": 123,
   "id": "c8dcd982",
   "metadata": {},
   "outputs": [],
   "source": [
    "from itertools import combinations"
   ]
  },
  {
   "cell_type": "code",
   "execution_count": 124,
   "id": "29766ff9",
   "metadata": {},
   "outputs": [],
   "source": [
    "atac_gene_graph = nx.DiGraph()\n",
    "# TODO should we add links from all the chromosomes\n",
    "# to the genes? \n",
    "for atac, genes in atac_gene_linkages.items():\n",
    "    for gene in genes:\n",
    "        atac_gene_graph.add_edge(atac, gene, interaction_type='gene_atac', weight=1.0)\n",
    "#             gene_structure_graph.add_edge(chromosome, gene)\n"
   ]
  },
  {
   "cell_type": "code",
   "execution_count": 125,
   "id": "6ae50b59",
   "metadata": {},
   "outputs": [],
   "source": [
    "tad_genes_graph = nx.DiGraph()\n",
    "for tad, genes in tad_gene_linkages.items():\n",
    "    for gene in genes:\n",
    "        tad_genes_graph.add_edge(tad, gene, interaction_type='tad_gene', weight=1.0)\n",
    "#             tad_genes_graph.add_edge(gene, tad, interaction_type='gene_tad', weight=1.0)\n"
   ]
  },
  {
   "cell_type": "code",
   "execution_count": 126,
   "id": "01a7e8b6",
   "metadata": {},
   "outputs": [],
   "source": [
    "tad_atac_graph = nx.DiGraph()\n",
    "for tad, atacs in tad_atac_linkages.items():\n",
    "    for atac in atacs:\n",
    "        tad_atac_graph.add_edge(tad, atac, interaction_type='tad_atac', weight=1.0)\n",
    "#             tad_atac_graph.add_edge(atac_term, tad, interaction_type='atac_tad', weight=1.0)\n"
   ]
  },
  {
   "cell_type": "code",
   "execution_count": 127,
   "id": "8d0466f8",
   "metadata": {},
   "outputs": [
    {
     "name": "stdout",
     "output_type": "stream",
     "text": [
      "[('gene', 59732), ('tad', 2611)]\n",
      "62343\n",
      "59732\n"
     ]
    }
   ],
   "source": [
    "print(Counter([ntype for ntype,node in tad_genes_graph.nodes]).most_common())\n",
    "print(tad_genes_graph.number_of_nodes())\n",
    "print(tad_genes_graph.number_of_edges())"
   ]
  },
  {
   "cell_type": "code",
   "execution_count": 128,
   "id": "91b7f63b",
   "metadata": {},
   "outputs": [
    {
     "name": "stdout",
     "output_type": "stream",
     "text": [
      "[('atac_region', 116232), ('tad', 2497)]\n",
      "118729\n",
      "116232\n"
     ]
    }
   ],
   "source": [
    "print(Counter([ntype for ntype,node in tad_atac_graph.nodes]).most_common())\n",
    "print(tad_atac_graph.number_of_nodes())\n",
    "print(tad_atac_graph.number_of_edges())"
   ]
  },
  {
   "cell_type": "code",
   "execution_count": 129,
   "id": "7f297b73",
   "metadata": {},
   "outputs": [
    {
     "name": "stdout",
     "output_type": "stream",
     "text": [
      "[('gene', 27233), ('atac_region', 23884)]\n",
      "51117\n",
      "27233\n"
     ]
    }
   ],
   "source": [
    "print(Counter([ntype for ntype,node in atac_gene_graph.nodes]).most_common())\n",
    "print(atac_gene_graph.number_of_nodes())\n",
    "print(atac_gene_graph.number_of_edges())"
   ]
  },
  {
   "cell_type": "markdown",
   "id": "9cecf391",
   "metadata": {},
   "source": [
    "## Convert to PyTorch Geometric (pyg) graph representation"
   ]
  },
  {
   "cell_type": "code",
   "execution_count": 130,
   "id": "8ac57702",
   "metadata": {},
   "outputs": [],
   "source": [
    "# import scipy\n",
    "import torch_geometric as pyg\n",
    "import torch"
   ]
  },
  {
   "cell_type": "code",
   "execution_count": 131,
   "id": "691b438b",
   "metadata": {},
   "outputs": [],
   "source": [
    "all_graphs = [tad_atac_graph,\n",
    "              gene_protein_graph, \n",
    "              atac_gene_graph, \n",
    "              protein_coocurrence, \n",
    "              tf_graph,\n",
    "              tad_genes_graph,\n",
    "              protein_name_protein_graph,\n",
    "              enhancer_atac_graph,\n",
    "              enhancer_gene_graph,\n",
    "              atac_neighbor_genes\n",
    "             ]"
   ]
  },
  {
   "cell_type": "code",
   "execution_count": 132,
   "id": "a7fa9a76",
   "metadata": {},
   "outputs": [
    {
     "name": "stdout",
     "output_type": "stream",
     "text": [
      "63995\n"
     ]
    }
   ],
   "source": [
    "node_lens = Counter()\n",
    "g = set()\n",
    "for graph in [tad_atac_graph, gene_protein_graph, atac_gene_graph, tf_graph,tad_genes_graph,enhancer_gene_graph,atac_neighbor_genes]:\n",
    "    for node in graph.nodes:\n",
    "        if node[0]=='gene':\n",
    "            g.add(node)\n",
    "print(len(g))"
   ]
  },
  {
   "cell_type": "code",
   "execution_count": 133,
   "id": "818fd4e1",
   "metadata": {},
   "outputs": [
    {
     "data": {
      "text/plain": [
       "18470"
      ]
     },
     "execution_count": 133,
     "metadata": {},
     "output_type": "execute_result"
    }
   ],
   "source": [
    "len(all_genes)"
   ]
  },
  {
   "cell_type": "code",
   "execution_count": 134,
   "id": "855ce4f9",
   "metadata": {},
   "outputs": [],
   "source": [
    "for graph in all_graphs:\n",
    "    for node in list(graph.nodes):\n",
    "        node_type, name = node \n",
    "        if node not in all_genes and node_type == 'gene':\n",
    "            graph.remove_node(node)"
   ]
  },
  {
   "cell_type": "code",
   "execution_count": 135,
   "id": "6667fa74",
   "metadata": {},
   "outputs": [],
   "source": [
    "combined_graph = nx.Graph()\n",
    "for graph in all_graphs:\n",
    "    combined_graph = nx.compose(combined_graph, graph.to_undirected())"
   ]
  },
  {
   "cell_type": "code",
   "execution_count": 136,
   "id": "99ecb00a",
   "metadata": {},
   "outputs": [],
   "source": [
    "ccs = list(nx.components.connected_components(combined_graph))"
   ]
  },
  {
   "cell_type": "code",
   "execution_count": 137,
   "id": "5a5d8189",
   "metadata": {},
   "outputs": [
    {
     "name": "stdout",
     "output_type": "stream",
     "text": [
      "cc size, count\n",
      "       1 10691   10691\n",
      "       2 840     1680\n",
      "       3 367     1101\n",
      "       4 183     732\n",
      "       5 91      455\n",
      "       6 33      198\n",
      "       7 13      91\n",
      "       8 11      88\n",
      "       9 4       36\n",
      "  392443 1       392443\n",
      "      13 1       13\n"
     ]
    }
   ],
   "source": [
    "len_ccs = Counter()\n",
    "for cc in ccs:\n",
    "    len_ccs[len(cc)]+=1\n",
    "print('cc size, count')\n",
    "for sz, cnt in len_ccs.most_common():\n",
    "    print(f'{sz:8d} {cnt:<7d} {sz*cnt}')"
   ]
  },
  {
   "cell_type": "code",
   "execution_count": 138,
   "id": "774ac969",
   "metadata": {},
   "outputs": [],
   "source": [
    "gene_degree = Counter()\n",
    "nodes=set()\n",
    "for node in list(combined_graph.nodes):\n",
    "    node_type, name = node\n",
    "    nodes.add(node)\n",
    "    if node_type == 'gene':\n",
    "        gene_degree[combined_graph.degree[node]]+=1"
   ]
  },
  {
   "cell_type": "code",
   "execution_count": 139,
   "id": "9c0be9f7",
   "metadata": {},
   "outputs": [
    {
     "data": {
      "text/plain": [
       "[(1, 73),\n",
       " (2, 295),\n",
       " (3, 177),\n",
       " (4, 167),\n",
       " (5, 157),\n",
       " (6, 151),\n",
       " (7, 176),\n",
       " (8, 147),\n",
       " (9, 166),\n",
       " (10, 177)]"
      ]
     },
     "execution_count": 139,
     "metadata": {},
     "output_type": "execute_result"
    }
   ],
   "source": [
    "sorted(gene_degree.most_common())[:10]"
   ]
  },
  {
   "cell_type": "code",
   "execution_count": 140,
   "id": "c9d108e2",
   "metadata": {},
   "outputs": [],
   "source": [
    "nodes = list(nodes)"
   ]
  },
  {
   "cell_type": "code",
   "execution_count": 141,
   "id": "e84d457d",
   "metadata": {},
   "outputs": [],
   "source": [
    "nodes_by_type = defaultdict(set)\n",
    "for node_type, node_id in nodes:\n",
    "    nodes_by_type[node_type].add(node_id)\n",
    "nodes_by_type = {node_type: {node_id:i for i, node_id in enumerate(node_ids)} for node_type, node_ids in nodes_by_type.items()}"
   ]
  },
  {
   "cell_type": "code",
   "execution_count": 142,
   "id": "21655a21",
   "metadata": {},
   "outputs": [],
   "source": [
    "def to_pyg_from_networkx(graph, use_weight=False, use_interaction_type=False):\n",
    "    N = graph.number_of_nodes()\n",
    "    \n",
    "    edge_attr = None\n",
    "    if use_weight:\n",
    "        weight_list = []\n",
    "        for src, dst, edge_data in iter(graph.edges(data=True)):\n",
    "            weight_list.append(edge_data['weight'])\n",
    "    if use_interaction_type:\n",
    "        interaction_list = []\n",
    "        for src, dst, edge_data in iter(graph.edges(data=True)):\n",
    "            interaction_list.append(edge_data['interaction_type'])\n",
    "        \n",
    "        interaction_idx = {x:i for i,x in enumerate(set(interaction_list))}\n",
    "        interaction_idxs = [interaction_idx[feature] for feature in interaction_list]\n",
    "        # TODO make the edge feature matrix sparse\n",
    "        rows = np.arange(len(interaction_idxs))\n",
    "        interaction_vector = np.zeros((len(rows),len(interaction_idx)), dtype=float)\n",
    "        interaction_vector[rows, interaction_idxs] = 1\n",
    "    \n",
    "    if use_weight and use_interaction_type:\n",
    "        edge_attr = torch.tensor(np.hstack((interaction_vector, np.array(weight_list, ndmin=2).T)))\n",
    "    elif use_weight:\n",
    "        edge_attr = torch.tensor(np.array(weight_list, ndmin=2).T)\n",
    "    elif use_interaction_type:\n",
    "        edge_attr = torch.tensor(interaction_vector)\n",
    "    \n",
    "    node_idx_map = dict()\n",
    "    for node in graph.nodes:\n",
    "        node_type, node_id = node\n",
    "        node_idx_map[node] = nodes_by_type[node_type][node_id]\n",
    "    graph = nx.relabel.relabel_nodes(graph, node_idx_map)\n",
    "\n",
    "    edge_index = torch.LongTensor(list(graph.edges)).t().contiguous().view(2,-1)\n",
    "    \n",
    "    return edge_index, edge_attr"
   ]
  },
  {
   "cell_type": "code",
   "execution_count": 143,
   "id": "81565d4d",
   "metadata": {},
   "outputs": [],
   "source": [
    "from torch_geometric.data import HeteroData"
   ]
  },
  {
   "cell_type": "code",
   "execution_count": 144,
   "id": "ce9d0c09",
   "metadata": {},
   "outputs": [
    {
     "name": "stdout",
     "output_type": "stream",
     "text": [
      "('tad', 'overlaps', 'atac_region')\n",
      "('tad', 'overlaps', 'gene')\n",
      "('gene', 'associated', 'protein')\n",
      "('atac_region', 'overlaps', 'gene')\n",
      "('protein', 'coexpressed', 'protein')\n",
      "('protein', 'tf_interacts', 'gene')\n",
      "('protein', 'is_named', 'protein_name')\n",
      "('enhancer', 'overlaps', 'atac_region')\n",
      "('enhancer', 'associated', 'gene')\n",
      "('atac_region', 'neighbors', 'gene')\n"
     ]
    }
   ],
   "source": [
    "# Graphs that don't have edge or \n",
    "bare_graphs = [(tad_atac_graph, ('tad','overlaps','atac_region')),\n",
    "               (tad_genes_graph, ('tad','overlaps','gene')),\n",
    "               (gene_protein_graph, ('gene', 'associated', 'protein')), \n",
    "               (atac_gene_graph, ('atac_region', 'overlaps', 'gene')), \n",
    "               (protein_coocurrence, ('protein', 'coexpressed', 'protein')), \n",
    "               (tf_graph, ('protein','tf_interacts','gene')),\n",
    "               (protein_name_protein_graph, ('protein','is_named','protein_name')),\n",
    "               (enhancer_atac_graph, ('enhancer','overlaps','atac_region')),\n",
    "               (enhancer_gene_graph, ('enhancer','associated','gene')),\n",
    "               (atac_neighbor_genes, ('atac_region','neighbors','gene')),\n",
    "              ]\n",
    "\n",
    "data = HeteroData()\n",
    "for graph, relation in bare_graphs:\n",
    "    print(relation)\n",
    "    edge_index, edge_attr = to_pyg_from_networkx(graph)\n",
    "\n",
    "    data[relation]['edge_index'] = edge_index\n",
    "    data[relation].num_nodes = graph.number_of_nodes()\n",
    "    "
   ]
  },
  {
   "cell_type": "code",
   "execution_count": 145,
   "id": "56b7858f",
   "metadata": {},
   "outputs": [
    {
     "data": {
      "text/plain": [
       "HeteroData(\n",
       "  \u001b[1m(tad, overlaps, atac_region)\u001b[0m={\n",
       "    edge_index=[2, 116232],\n",
       "    num_nodes=118729\n",
       "  },\n",
       "  \u001b[1m(tad, overlaps, gene)\u001b[0m={\n",
       "    edge_index=[2, 18328],\n",
       "    num_nodes=20939\n",
       "  },\n",
       "  \u001b[1m(gene, associated, protein)\u001b[0m={\n",
       "    edge_index=[2, 18470],\n",
       "    num_nodes=42807\n",
       "  },\n",
       "  \u001b[1m(atac_region, overlaps, gene)\u001b[0m={\n",
       "    edge_index=[2, 15951],\n",
       "    num_nodes=39835\n",
       "  },\n",
       "  \u001b[1m(protein, coexpressed, protein)\u001b[0m={\n",
       "    edge_index=[2, 6509230],\n",
       "    num_nodes=18989\n",
       "  },\n",
       "  \u001b[1m(protein, tf_interacts, gene)\u001b[0m={\n",
       "    edge_index=[2, 777242],\n",
       "    num_nodes=16266\n",
       "  },\n",
       "  \u001b[1m(protein, is_named, protein_name)\u001b[0m={\n",
       "    edge_index=[2, 54792],\n",
       "    num_nodes=72821\n",
       "  },\n",
       "  \u001b[1m(enhancer, overlaps, atac_region)\u001b[0m={\n",
       "    edge_index=[2, 31950],\n",
       "    num_nodes=47363\n",
       "  },\n",
       "  \u001b[1m(enhancer, associated, gene)\u001b[0m={\n",
       "    edge_index=[2, 448589],\n",
       "    num_nodes=206282\n",
       "  },\n",
       "  \u001b[1m(atac_region, neighbors, gene)\u001b[0m={\n",
       "    edge_index=[2, 276738],\n",
       "    num_nodes=134164\n",
       "  }\n",
       ")"
      ]
     },
     "execution_count": 145,
     "metadata": {},
     "output_type": "execute_result"
    }
   ],
   "source": [
    "data"
   ]
  },
  {
   "cell_type": "markdown",
   "id": "6a4b8872",
   "metadata": {},
   "source": [
    "#### Attributed graphs, not using edge attributes at the moment"
   ]
  },
  {
   "cell_type": "code",
   "execution_count": 146,
   "id": "e9b916ca",
   "metadata": {},
   "outputs": [],
   "source": [
    "# for graph, relation in attributed_graphs:\n",
    "#     edge_index, edge_attr = to_pyg_from_networkx(graph, use_weight=True, use_interaction_type=True)\n",
    "    \n",
    "#     data[relation]['edge_index'] = edge_index\n",
    "#     data[relation]['edge_attr'] = edge_attr\n",
    "#     data[relation].num_nodes = graph.number_of_nodes()\n",
    "\n",
    "# data['gene_ensembl_id'] = gene_ensembl_id"
   ]
  },
  {
   "cell_type": "code",
   "execution_count": 147,
   "id": "ea3b57e7",
   "metadata": {},
   "outputs": [
    {
     "data": {
      "text/plain": [
       "HeteroData(\n",
       "  \u001b[1m(tad, overlaps, atac_region)\u001b[0m={\n",
       "    edge_index=[2, 116232],\n",
       "    num_nodes=118729\n",
       "  },\n",
       "  \u001b[1m(tad, overlaps, gene)\u001b[0m={\n",
       "    edge_index=[2, 18328],\n",
       "    num_nodes=20939\n",
       "  },\n",
       "  \u001b[1m(gene, associated, protein)\u001b[0m={\n",
       "    edge_index=[2, 18470],\n",
       "    num_nodes=42807\n",
       "  },\n",
       "  \u001b[1m(atac_region, overlaps, gene)\u001b[0m={\n",
       "    edge_index=[2, 15951],\n",
       "    num_nodes=39835\n",
       "  },\n",
       "  \u001b[1m(protein, coexpressed, protein)\u001b[0m={\n",
       "    edge_index=[2, 6509230],\n",
       "    num_nodes=18989\n",
       "  },\n",
       "  \u001b[1m(protein, tf_interacts, gene)\u001b[0m={\n",
       "    edge_index=[2, 777242],\n",
       "    num_nodes=16266\n",
       "  },\n",
       "  \u001b[1m(protein, is_named, protein_name)\u001b[0m={\n",
       "    edge_index=[2, 54792],\n",
       "    num_nodes=72821\n",
       "  },\n",
       "  \u001b[1m(enhancer, overlaps, atac_region)\u001b[0m={\n",
       "    edge_index=[2, 31950],\n",
       "    num_nodes=47363\n",
       "  },\n",
       "  \u001b[1m(enhancer, associated, gene)\u001b[0m={\n",
       "    edge_index=[2, 448589],\n",
       "    num_nodes=206282\n",
       "  },\n",
       "  \u001b[1m(atac_region, neighbors, gene)\u001b[0m={\n",
       "    edge_index=[2, 276738],\n",
       "    num_nodes=134164\n",
       "  }\n",
       ")"
      ]
     },
     "execution_count": 147,
     "metadata": {},
     "output_type": "execute_result"
    }
   ],
   "source": [
    "data"
   ]
  },
  {
   "cell_type": "markdown",
   "id": "a88fcf54",
   "metadata": {},
   "source": [
    "## Save the graphs and metadata"
   ]
  },
  {
   "cell_type": "code",
   "execution_count": 148,
   "id": "bfb2d437",
   "metadata": {},
   "outputs": [],
   "source": [
    "torch.save(data, 'input/pyg_graph.torch')"
   ]
  },
  {
   "cell_type": "code",
   "execution_count": 149,
   "id": "f58c8534",
   "metadata": {},
   "outputs": [],
   "source": [
    "import pickle"
   ]
  },
  {
   "cell_type": "code",
   "execution_count": 150,
   "id": "ad6ad948",
   "metadata": {},
   "outputs": [],
   "source": [
    "pickle.dump(nodes_by_type, open('input/nodes_by_type.pickle','wb'))"
   ]
  },
  {
   "cell_type": "code",
   "execution_count": 151,
   "id": "4a41dacf",
   "metadata": {},
   "outputs": [],
   "source": [
    "pickle.dump(gene_ensembl_id, open('input/gene_ensembl_id.pickle','wb'))"
   ]
  },
  {
   "cell_type": "code",
   "execution_count": 152,
   "id": "b6ab35d8",
   "metadata": {},
   "outputs": [],
   "source": [
    "pickle.dump(protein_name_proteins, open('input/protein_name_proteins.pickle','wb'))"
   ]
  },
  {
   "cell_type": "code",
   "execution_count": 153,
   "id": "63fb5fb8",
   "metadata": {},
   "outputs": [],
   "source": [
    "pickle.dump(bare_graphs, open('input/graphs.pickle','wb'))"
   ]
  },
  {
   "cell_type": "markdown",
   "id": "04dd4e45",
   "metadata": {},
   "source": [
    "## Count node types"
   ]
  },
  {
   "cell_type": "code",
   "execution_count": 154,
   "id": "dc2fc49e",
   "metadata": {},
   "outputs": [],
   "source": [
    "number_of_nodes_by_type = {node_type:len(node_ids) for node_type,node_ids in nodes_by_type.items()}"
   ]
  },
  {
   "cell_type": "code",
   "execution_count": 155,
   "id": "770eda7c",
   "metadata": {},
   "outputs": [
    {
     "data": {
      "text/plain": [
       "{'atac_region': 116465,\n",
       " 'enhancer': 191827,\n",
       " 'protein': 24946,\n",
       " 'protein_name': 52958,\n",
       " 'tad': 2862,\n",
       " 'gene': 18470}"
      ]
     },
     "execution_count": 155,
     "metadata": {},
     "output_type": "execute_result"
    }
   ],
   "source": [
    "number_of_nodes_by_type"
   ]
  },
  {
   "cell_type": "code",
   "execution_count": 156,
   "id": "6a1f9964",
   "metadata": {},
   "outputs": [
    {
     "data": {
      "text/plain": [
       "351708"
      ]
     },
     "execution_count": 156,
     "metadata": {},
     "output_type": "execute_result"
    }
   ],
   "source": [
    "sum(number_of_nodes_by_type.values())-number_of_nodes_by_type['tad']-number_of_nodes_by_type['protein_name']"
   ]
  },
  {
   "cell_type": "markdown",
   "id": "bd7bc613",
   "metadata": {},
   "source": [
    "## Add the node2vec embeddings"
   ]
  },
  {
   "cell_type": "code",
   "execution_count": 157,
   "id": "ce0316b9",
   "metadata": {},
   "outputs": [],
   "source": [
    "device='cpu'"
   ]
  },
  {
   "cell_type": "code",
   "execution_count": 158,
   "id": "027fcd7e",
   "metadata": {},
   "outputs": [],
   "source": [
    "data = torch.load('input/pyg_graph.torch')"
   ]
  },
  {
   "cell_type": "code",
   "execution_count": 159,
   "id": "17c746c8",
   "metadata": {},
   "outputs": [],
   "source": [
    "data = data.to(device)"
   ]
  },
  {
   "cell_type": "code",
   "execution_count": 160,
   "id": "809476fd",
   "metadata": {},
   "outputs": [],
   "source": [
    "embedding = torch.load('input/node2vec_embeddings.torch').to(device)"
   ]
  },
  {
   "cell_type": "code",
   "execution_count": 161,
   "id": "70c06823",
   "metadata": {},
   "outputs": [],
   "source": [
    "subgraph = torch.load('input/node2vec_subgraph.torch').to(device)"
   ]
  },
  {
   "cell_type": "code",
   "execution_count": 162,
   "id": "293915ab",
   "metadata": {},
   "outputs": [
    {
     "data": {
      "text/plain": [
       "['protein', 'gene', 'enhancer', 'atac_region']"
      ]
     },
     "execution_count": 162,
     "metadata": {},
     "output_type": "execute_result"
    }
   ],
   "source": [
    "subgraph._node_type_names"
   ]
  },
  {
   "cell_type": "code",
   "execution_count": 163,
   "id": "9cc186b3",
   "metadata": {},
   "outputs": [],
   "source": [
    "node_types = subgraph.node_type.unique()"
   ]
  },
  {
   "cell_type": "code",
   "execution_count": 164,
   "id": "e1f7cd78",
   "metadata": {},
   "outputs": [],
   "source": [
    "edge_types = subgraph.edge_type.unique()"
   ]
  },
  {
   "cell_type": "code",
   "execution_count": 165,
   "id": "df630f5c",
   "metadata": {},
   "outputs": [
    {
     "data": {
      "text/plain": [
       "torch.Size([351708])"
      ]
     },
     "execution_count": 165,
     "metadata": {},
     "output_type": "execute_result"
    }
   ],
   "source": [
    "subgraph.node_type.shape"
   ]
  },
  {
   "cell_type": "code",
   "execution_count": 166,
   "id": "c0b09c1b",
   "metadata": {},
   "outputs": [
    {
     "data": {
      "text/plain": [
       "torch.Size([351708, 128])"
      ]
     },
     "execution_count": 166,
     "metadata": {},
     "output_type": "execute_result"
    }
   ],
   "source": [
    "embedding.shape"
   ]
  },
  {
   "cell_type": "code",
   "execution_count": 167,
   "id": "50bf3b54",
   "metadata": {},
   "outputs": [],
   "source": [
    "for node_type in node_types:\n",
    "    idxs = (subgraph.node_type==node_type).nonzero().view((-1,))\n",
    "    node_name = subgraph._node_type_names[node_type]\n",
    "    data[node_name].x = embedding[idxs]"
   ]
  },
  {
   "cell_type": "code",
   "execution_count": 168,
   "id": "f3d7cd98",
   "metadata": {},
   "outputs": [],
   "source": [
    "import torch_scatter"
   ]
  },
  {
   "cell_type": "code",
   "execution_count": 169,
   "id": "2efc16ab",
   "metadata": {},
   "outputs": [],
   "source": [
    "tad_gene_idxs = data[('tad','overlaps','gene')].edge_index[1]\n",
    "tad_gene_embeddings = data['gene'].x[tad_gene_idxs]\n",
    "\n",
    "tad_summed_gene_embeddings = torch.zeros((len(nodes_by_type['tad']),\n",
    "                                          tad_gene_embeddings.shape[1]),\n",
    "                                         device=device)\n",
    "\n",
    "tad_summed_gene_embeddings = torch_scatter.scatter(src=tad_gene_embeddings,\n",
    "                                                   index=data[('tad','overlaps','gene')].edge_index[0],\n",
    "                                                   dim=0\n",
    "                                                  )"
   ]
  },
  {
   "cell_type": "code",
   "execution_count": 170,
   "id": "74f44303",
   "metadata": {},
   "outputs": [
    {
     "data": {
      "text/plain": [
       "torch.Size([2860, 128])"
      ]
     },
     "execution_count": 170,
     "metadata": {},
     "output_type": "execute_result"
    }
   ],
   "source": [
    "tad_summed_gene_embeddings.shape"
   ]
  },
  {
   "cell_type": "code",
   "execution_count": 171,
   "id": "ac3e02f5",
   "metadata": {},
   "outputs": [
    {
     "data": {
      "text/plain": [
       "tensor(2019)"
      ]
     },
     "execution_count": 171,
     "metadata": {},
     "output_type": "execute_result"
    }
   ],
   "source": [
    "(torch.abs(tad_summed_gene_embeddings.sum(axis=1)) > 0).sum()"
   ]
  },
  {
   "cell_type": "code",
   "execution_count": 172,
   "id": "9c3962f8",
   "metadata": {},
   "outputs": [],
   "source": [
    "# atac_gene_idxs = data[('atac_region','overlaps','gene')].edge_index[1]\n",
    "# atac_gene_embeddings = data['gene'].x[atac_gene_idxs]\n",
    "\n",
    "# atac_summed_gene_embeddings = torch.zeros((len(nodes_by_type['atac_region']),\n",
    "#                                            atac_gene_embeddings.shape[1]),\n",
    "#                                           device=device)\n",
    "\n",
    "# atac_summed_gene_embeddings = torch_scatter.scatter(src=atac_gene_embeddings,\n",
    "#                                                     index=data[('atac_region','overlaps','gene')].edge_index[0],\n",
    "#                                                     dim=0,\n",
    "#                                                    )\n",
    "\n",
    "# atac_summed_gene_embeddings.shape\n",
    "\n",
    "# (torch.abs(atac_summed_gene_embeddings.sum(axis=1)) > 0).sum()\n",
    "\n",
    "# data['atac_region'].x = atac_summed_gene_embeddings\n",
    "\n",
    "# len(nodes_by_type['atac_region'])"
   ]
  },
  {
   "cell_type": "code",
   "execution_count": 173,
   "id": "f3290200",
   "metadata": {},
   "outputs": [],
   "source": [
    "data['tad'].x = tad_summed_gene_embeddings"
   ]
  },
  {
   "cell_type": "code",
   "execution_count": 174,
   "id": "152a5900",
   "metadata": {},
   "outputs": [
    {
     "data": {
      "text/plain": [
       "HeteroData(\n",
       "  \u001b[1mprotein\u001b[0m={ x=[24946, 128] },\n",
       "  \u001b[1mgene\u001b[0m={ x=[18470, 128] },\n",
       "  \u001b[1menhancer\u001b[0m={ x=[191827, 128] },\n",
       "  \u001b[1matac_region\u001b[0m={ x=[116465, 128] },\n",
       "  \u001b[1mtad\u001b[0m={ x=[2860, 128] },\n",
       "  \u001b[1m(tad, overlaps, atac_region)\u001b[0m={\n",
       "    edge_index=[2, 116232],\n",
       "    num_nodes=118729\n",
       "  },\n",
       "  \u001b[1m(tad, overlaps, gene)\u001b[0m={\n",
       "    edge_index=[2, 18328],\n",
       "    num_nodes=20939\n",
       "  },\n",
       "  \u001b[1m(gene, associated, protein)\u001b[0m={\n",
       "    edge_index=[2, 18470],\n",
       "    num_nodes=42807\n",
       "  },\n",
       "  \u001b[1m(atac_region, overlaps, gene)\u001b[0m={\n",
       "    edge_index=[2, 15951],\n",
       "    num_nodes=39835\n",
       "  },\n",
       "  \u001b[1m(protein, coexpressed, protein)\u001b[0m={\n",
       "    edge_index=[2, 6509230],\n",
       "    num_nodes=18989\n",
       "  },\n",
       "  \u001b[1m(protein, tf_interacts, gene)\u001b[0m={\n",
       "    edge_index=[2, 777242],\n",
       "    num_nodes=16266\n",
       "  },\n",
       "  \u001b[1m(protein, is_named, protein_name)\u001b[0m={\n",
       "    edge_index=[2, 54792],\n",
       "    num_nodes=72821\n",
       "  },\n",
       "  \u001b[1m(enhancer, overlaps, atac_region)\u001b[0m={\n",
       "    edge_index=[2, 31950],\n",
       "    num_nodes=47363\n",
       "  },\n",
       "  \u001b[1m(enhancer, associated, gene)\u001b[0m={\n",
       "    edge_index=[2, 448589],\n",
       "    num_nodes=206282\n",
       "  },\n",
       "  \u001b[1m(atac_region, neighbors, gene)\u001b[0m={\n",
       "    edge_index=[2, 276738],\n",
       "    num_nodes=134164\n",
       "  }\n",
       ")"
      ]
     },
     "execution_count": 174,
     "metadata": {},
     "output_type": "execute_result"
    }
   ],
   "source": [
    "data"
   ]
  },
  {
   "cell_type": "markdown",
   "id": "a9f9f9f1",
   "metadata": {},
   "source": [
    "## Add ATAC DNABERT embeddings"
   ]
  },
  {
   "cell_type": "code",
   "execution_count": 175,
   "id": "6f90e130",
   "metadata": {},
   "outputs": [],
   "source": [
    "atac_embedding = torch.load('input/projected_atac_sequences.torch')"
   ]
  },
  {
   "cell_type": "code",
   "execution_count": 176,
   "id": "3fd0d35d",
   "metadata": {},
   "outputs": [
    {
     "data": {
      "text/plain": [
       "torch.Size([116468, 128])"
      ]
     },
     "execution_count": 176,
     "metadata": {},
     "output_type": "execute_result"
    }
   ],
   "source": [
    "atac_embedding.shape"
   ]
  },
  {
   "cell_type": "code",
   "execution_count": 177,
   "id": "83c46f7e",
   "metadata": {},
   "outputs": [
    {
     "data": {
      "text/plain": [
       "torch.Size([116465, 128])"
      ]
     },
     "execution_count": 177,
     "metadata": {},
     "output_type": "execute_result"
    }
   ],
   "source": [
    "data['atac_region'].x.shape"
   ]
  },
  {
   "cell_type": "code",
   "execution_count": 178,
   "id": "b8d71682",
   "metadata": {},
   "outputs": [],
   "source": [
    "embedded_atac_ids = [x.strip() for x in open('input/atac_list.txt')]"
   ]
  },
  {
   "cell_type": "code",
   "execution_count": 179,
   "id": "f6017af1",
   "metadata": {},
   "outputs": [
    {
     "data": {
      "text/plain": [
       "116465"
      ]
     },
     "execution_count": 179,
     "metadata": {},
     "output_type": "execute_result"
    }
   ],
   "source": [
    "len(nodes_by_type['atac_region'])"
   ]
  },
  {
   "cell_type": "code",
   "execution_count": 180,
   "id": "f9d01042",
   "metadata": {},
   "outputs": [
    {
     "name": "stdout",
     "output_type": "stream",
     "text": [
      "chrY-11295162-11295942\n",
      "chrY-11333659-11334343\n",
      "chrY-56836454-56837350\n"
     ]
    }
   ],
   "source": [
    "matched_atac_idxs = []\n",
    "for i in range(len(embedded_atac_ids)):\n",
    "    if embedded_atac_ids[i] in nodes_by_type['atac_region']:\n",
    "        matched_atac_idxs.append(i)\n",
    "    else:\n",
    "        print(embedded_atac_ids[i])"
   ]
  },
  {
   "cell_type": "code",
   "execution_count": 181,
   "id": "d67284a5",
   "metadata": {},
   "outputs": [
    {
     "data": {
      "text/plain": [
       "116465"
      ]
     },
     "execution_count": 181,
     "metadata": {},
     "output_type": "execute_result"
    }
   ],
   "source": [
    "len(matched_atac_idxs)"
   ]
  },
  {
   "cell_type": "code",
   "execution_count": 182,
   "id": "d471188c",
   "metadata": {},
   "outputs": [],
   "source": [
    "matched_atac_embeddings = atac_embedding[matched_atac_idxs]"
   ]
  },
  {
   "cell_type": "code",
   "execution_count": 183,
   "id": "006d6ab4",
   "metadata": {},
   "outputs": [
    {
     "data": {
      "text/plain": [
       "torch.Size([116465, 128])"
      ]
     },
     "execution_count": 183,
     "metadata": {},
     "output_type": "execute_result"
    }
   ],
   "source": [
    "matched_atac_embeddings.shape"
   ]
  },
  {
   "cell_type": "code",
   "execution_count": 184,
   "id": "586ca366",
   "metadata": {},
   "outputs": [],
   "source": [
    "data['atac_region'].x = torch.cat([data['atac_region'].x, matched_atac_embeddings], axis=1)"
   ]
  },
  {
   "cell_type": "code",
   "execution_count": 185,
   "id": "ab266f51",
   "metadata": {},
   "outputs": [
    {
     "data": {
      "text/plain": [
       "HeteroData(\n",
       "  \u001b[1mprotein\u001b[0m={ x=[24946, 128] },\n",
       "  \u001b[1mgene\u001b[0m={ x=[18470, 128] },\n",
       "  \u001b[1menhancer\u001b[0m={ x=[191827, 128] },\n",
       "  \u001b[1matac_region\u001b[0m={ x=[116465, 256] },\n",
       "  \u001b[1mtad\u001b[0m={ x=[2860, 128] },\n",
       "  \u001b[1m(tad, overlaps, atac_region)\u001b[0m={\n",
       "    edge_index=[2, 116232],\n",
       "    num_nodes=118729\n",
       "  },\n",
       "  \u001b[1m(tad, overlaps, gene)\u001b[0m={\n",
       "    edge_index=[2, 18328],\n",
       "    num_nodes=20939\n",
       "  },\n",
       "  \u001b[1m(gene, associated, protein)\u001b[0m={\n",
       "    edge_index=[2, 18470],\n",
       "    num_nodes=42807\n",
       "  },\n",
       "  \u001b[1m(atac_region, overlaps, gene)\u001b[0m={\n",
       "    edge_index=[2, 15951],\n",
       "    num_nodes=39835\n",
       "  },\n",
       "  \u001b[1m(protein, coexpressed, protein)\u001b[0m={\n",
       "    edge_index=[2, 6509230],\n",
       "    num_nodes=18989\n",
       "  },\n",
       "  \u001b[1m(protein, tf_interacts, gene)\u001b[0m={\n",
       "    edge_index=[2, 777242],\n",
       "    num_nodes=16266\n",
       "  },\n",
       "  \u001b[1m(protein, is_named, protein_name)\u001b[0m={\n",
       "    edge_index=[2, 54792],\n",
       "    num_nodes=72821\n",
       "  },\n",
       "  \u001b[1m(enhancer, overlaps, atac_region)\u001b[0m={\n",
       "    edge_index=[2, 31950],\n",
       "    num_nodes=47363\n",
       "  },\n",
       "  \u001b[1m(enhancer, associated, gene)\u001b[0m={\n",
       "    edge_index=[2, 448589],\n",
       "    num_nodes=206282\n",
       "  },\n",
       "  \u001b[1m(atac_region, neighbors, gene)\u001b[0m={\n",
       "    edge_index=[2, 276738],\n",
       "    num_nodes=134164\n",
       "  }\n",
       ")"
      ]
     },
     "execution_count": 185,
     "metadata": {},
     "output_type": "execute_result"
    }
   ],
   "source": [
    "data"
   ]
  },
  {
   "cell_type": "markdown",
   "id": "c6130740",
   "metadata": {},
   "source": [
    "## Initialize protein_names"
   ]
  },
  {
   "cell_type": "code",
   "execution_count": 186,
   "id": "c1a2ac4c",
   "metadata": {},
   "outputs": [
    {
     "data": {
      "text/plain": [
       "52958"
      ]
     },
     "execution_count": 186,
     "metadata": {},
     "output_type": "execute_result"
    }
   ],
   "source": [
    "protein_idxs = data[('protein','is_named','protein_name')].edge_index\n",
    "protein_embeddings = data['protein'].x[protein_idxs[0]]\n",
    "\n",
    "name_summed_protein_embeddings = torch.zeros((len(nodes_by_type['protein_name']),\n",
    "                                              protein_embeddings.shape[1]),\n",
    "                                          device=device)\n",
    "\n",
    "name_summed_protein_embeddings = torch_scatter.scatter(src=protein_embeddings,\n",
    "                                                       index=protein_idxs[1],\n",
    "                                                       dim=0)\n",
    "\n",
    "data['protein_name'].x = name_summed_protein_embeddings\n",
    "\n",
    "len(nodes_by_type['protein_name'])"
   ]
  },
  {
   "cell_type": "code",
   "execution_count": 187,
   "id": "e1b6a15d",
   "metadata": {},
   "outputs": [
    {
     "data": {
      "text/plain": [
       "tensor(52958)"
      ]
     },
     "execution_count": 187,
     "metadata": {},
     "output_type": "execute_result"
    }
   ],
   "source": [
    "(torch.abs(name_summed_protein_embeddings.sum(axis=1)) > 0).sum()"
   ]
  },
  {
   "cell_type": "code",
   "execution_count": 188,
   "id": "b0b08b37",
   "metadata": {},
   "outputs": [
    {
     "data": {
      "text/plain": [
       "torch.Size([52958, 128])"
      ]
     },
     "execution_count": 188,
     "metadata": {},
     "output_type": "execute_result"
    }
   ],
   "source": [
    "data['protein_name'].x.shape"
   ]
  },
  {
   "cell_type": "code",
   "execution_count": 189,
   "id": "07079d99",
   "metadata": {},
   "outputs": [
    {
     "data": {
      "text/plain": [
       "52958"
      ]
     },
     "execution_count": 189,
     "metadata": {},
     "output_type": "execute_result"
    }
   ],
   "source": [
    "len(nodes_by_type['protein_name'])"
   ]
  },
  {
   "cell_type": "code",
   "execution_count": 190,
   "id": "efdaa790",
   "metadata": {},
   "outputs": [
    {
     "data": {
      "text/plain": [
       "24946"
      ]
     },
     "execution_count": 190,
     "metadata": {},
     "output_type": "execute_result"
    }
   ],
   "source": [
    "len(nodes_by_type['protein'])"
   ]
  },
  {
   "cell_type": "code",
   "execution_count": 191,
   "id": "47cd6587",
   "metadata": {},
   "outputs": [
    {
     "data": {
      "text/plain": [
       "torch.Size([19863])"
      ]
     },
     "execution_count": 191,
     "metadata": {},
     "output_type": "execute_result"
    }
   ],
   "source": [
    "data[('protein','is_named','protein_name')].edge_index[0].unique().shape"
   ]
  },
  {
   "cell_type": "code",
   "execution_count": 192,
   "id": "4dbf3afd",
   "metadata": {},
   "outputs": [
    {
     "data": {
      "text/plain": [
       "torch.Size([52958])"
      ]
     },
     "execution_count": 192,
     "metadata": {},
     "output_type": "execute_result"
    }
   ],
   "source": [
    "data[('protein','is_named','protein_name')].edge_index[1].unique().shape"
   ]
  },
  {
   "cell_type": "code",
   "execution_count": 193,
   "id": "f9b35024",
   "metadata": {},
   "outputs": [
    {
     "data": {
      "text/plain": [
       "HeteroData(\n",
       "  \u001b[1mprotein\u001b[0m={ x=[24946, 128] },\n",
       "  \u001b[1mgene\u001b[0m={ x=[18470, 128] },\n",
       "  \u001b[1menhancer\u001b[0m={ x=[191827, 128] },\n",
       "  \u001b[1matac_region\u001b[0m={ x=[116465, 256] },\n",
       "  \u001b[1mtad\u001b[0m={ x=[2860, 128] },\n",
       "  \u001b[1mprotein_name\u001b[0m={ x=[52958, 128] },\n",
       "  \u001b[1m(tad, overlaps, atac_region)\u001b[0m={\n",
       "    edge_index=[2, 116232],\n",
       "    num_nodes=118729\n",
       "  },\n",
       "  \u001b[1m(tad, overlaps, gene)\u001b[0m={\n",
       "    edge_index=[2, 18328],\n",
       "    num_nodes=20939\n",
       "  },\n",
       "  \u001b[1m(gene, associated, protein)\u001b[0m={\n",
       "    edge_index=[2, 18470],\n",
       "    num_nodes=42807\n",
       "  },\n",
       "  \u001b[1m(atac_region, overlaps, gene)\u001b[0m={\n",
       "    edge_index=[2, 15951],\n",
       "    num_nodes=39835\n",
       "  },\n",
       "  \u001b[1m(protein, coexpressed, protein)\u001b[0m={\n",
       "    edge_index=[2, 6509230],\n",
       "    num_nodes=18989\n",
       "  },\n",
       "  \u001b[1m(protein, tf_interacts, gene)\u001b[0m={\n",
       "    edge_index=[2, 777242],\n",
       "    num_nodes=16266\n",
       "  },\n",
       "  \u001b[1m(protein, is_named, protein_name)\u001b[0m={\n",
       "    edge_index=[2, 54792],\n",
       "    num_nodes=72821\n",
       "  },\n",
       "  \u001b[1m(enhancer, overlaps, atac_region)\u001b[0m={\n",
       "    edge_index=[2, 31950],\n",
       "    num_nodes=47363\n",
       "  },\n",
       "  \u001b[1m(enhancer, associated, gene)\u001b[0m={\n",
       "    edge_index=[2, 448589],\n",
       "    num_nodes=206282\n",
       "  },\n",
       "  \u001b[1m(atac_region, neighbors, gene)\u001b[0m={\n",
       "    edge_index=[2, 276738],\n",
       "    num_nodes=134164\n",
       "  }\n",
       ")"
      ]
     },
     "execution_count": 193,
     "metadata": {},
     "output_type": "execute_result"
    }
   ],
   "source": [
    "data"
   ]
  },
  {
   "cell_type": "markdown",
   "id": "62170857",
   "metadata": {},
   "source": [
    "## Save the data"
   ]
  },
  {
   "cell_type": "code",
   "execution_count": 194,
   "id": "2733b9b5",
   "metadata": {},
   "outputs": [],
   "source": [
    "torch.save(data, 'input/graph_with_embeddings.torch')"
   ]
  },
  {
   "cell_type": "code",
   "execution_count": null,
   "id": "606f55b2",
   "metadata": {},
   "outputs": [],
   "source": []
  }
 ],
 "metadata": {
  "kernelspec": {
   "display_name": "Python [conda env:opisca]",
   "language": "python",
   "name": "conda-env-opisca-py"
  },
  "language_info": {
   "codemirror_mode": {
    "name": "ipython",
    "version": 3
   },
   "file_extension": ".py",
   "mimetype": "text/x-python",
   "name": "python",
   "nbconvert_exporter": "python",
   "pygments_lexer": "ipython3",
   "version": "3.8.13"
  }
 },
 "nbformat": 4,
 "nbformat_minor": 5
}
